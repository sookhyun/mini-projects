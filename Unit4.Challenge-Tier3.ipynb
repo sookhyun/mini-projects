{
 "cells": [
  {
   "cell_type": "markdown",
   "metadata": {
    "colab_type": "text",
    "id": "Tia3MP1SJpgj"
   },
   "source": [
    "# Springboard Data Science Career Track Unit 4 Challenge - Tier 3 Complete\n",
    "\n",
    "## Objectives\n",
    "Hey! Great job getting through those challenging DataCamp courses. You're learning a lot in a short span of time. \n",
    "\n",
    "In this notebook, you're going to apply the skills you've been learning, bridging the gap between the controlled environment of DataCamp and the *slightly* messier work that data scientists do with actual datasets!\n",
    "\n",
    "Here’s the mystery we’re going to solve: ***which boroughs of London have seen the greatest increase in housing prices, on average, over the last two decades?***\n",
    "\n",
    "\n",
    "A borough is just a fancy word for district. You may be familiar with the five boroughs of New York… well, there are 32 boroughs within Greater London [(here's some info for the curious)](https://en.wikipedia.org/wiki/London_boroughs). Some of them are more desirable areas to live in, and the data will reflect that with a greater rise in housing prices.\n",
    "\n",
    "***This is the Tier 3 notebook, which means it's not filled in at all: we'll just give you the skeleton of a project, the brief and the data. It's up to you to play around with it and see what you can find out! Good luck! If you struggle, feel free to look at easier tiers for help; but try to dip in and out of them, as the more independent work you do, the better it is for your learning!***\n",
    "\n",
    "This challenge will make use of only what you learned in the following DataCamp courses: \n",
    "- Prework courses (Introduction to Python for Data Science, Intermediate Python for Data Science)\n",
    "- Data Types for Data Science\n",
    "- Python Data Science Toolbox (Part One) \n",
    "- pandas Foundations\n",
    "- Manipulating DataFrames with pandas\n",
    "- Merging DataFrames with pandas\n",
    "\n",
    "Of the tools, techniques and concepts in the above DataCamp courses, this challenge should require the application of the following: \n",
    "- **pandas**\n",
    "    - **data ingestion and inspection** (pandas Foundations, Module One) \n",
    "    - **exploratory data analysis** (pandas Foundations, Module Two)\n",
    "    - **tidying and cleaning** (Manipulating DataFrames with pandas, Module Three) \n",
    "    - **transforming DataFrames** (Manipulating DataFrames with pandas, Module One)\n",
    "    - **subsetting DataFrames with lists** (Manipulating DataFrames with pandas, Module One) \n",
    "    - **filtering DataFrames** (Manipulating DataFrames with pandas, Module One) \n",
    "    - **grouping data** (Manipulating DataFrames with pandas, Module Four) \n",
    "    - **melting data** (Manipulating DataFrames with pandas, Module Three) \n",
    "    - **advanced indexing** (Manipulating DataFrames with pandas, Module Four) \n",
    "- **matplotlib** (Intermediate Python for Data Science, Module One)\n",
    "- **fundamental data types** (Data Types for Data Science, Module One) \n",
    "- **dictionaries** (Intermediate Python for Data Science, Module Two)\n",
    "- **handling dates and times** (Data Types for Data Science, Module Four)\n",
    "- **function definition** (Python Data Science Toolbox - Part One, Module One)\n",
    "- **default arguments, variable length, and scope** (Python Data Science Toolbox - Part One, Module Two) \n",
    "- **lambda functions and error handling** (Python Data Science Toolbox - Part One, Module Four) "
   ]
  },
  {
   "cell_type": "markdown",
   "metadata": {
    "colab_type": "text",
    "id": "Ipgd2nV8Jpgl"
   },
   "source": [
    "## The Data Science Pipeline\n",
    "\n",
    "This is Tier Three, so we'll get you started. But after that, it's all in your hands! When you feel done with your investigations, look back over what you've accomplished, and prepare a quick presentation of your findings for the next mentor meeting. \n",
    "\n",
    "Data Science is magical. In this case study, you'll get to apply some complex machine learning algorithms. But as  [David Spiegelhalter](https://www.youtube.com/watch?v=oUs1uvsz0Ok) reminds us, there is no substitute for simply **taking a really, really good look at the data.** Sometimes, this is all we need to answer our question.\n",
    "\n",
    "Data Science projects generally adhere to the four stages of Data Science Pipeline:\n",
    "1. Sourcing and loading \n",
    "2. Cleaning, transforming, and visualizing \n",
    "3. Modeling \n",
    "4. Evaluating and concluding \n"
   ]
  },
  {
   "cell_type": "markdown",
   "metadata": {
    "colab_type": "text",
    "id": "zswDqbefJpgm"
   },
   "source": [
    "### 1. Sourcing and Loading \n",
    "\n",
    "Any Data Science project kicks off by importing  ***pandas***. The documentation of this wonderful library can be found [here](https://pandas.pydata.org/). As you've seen, pandas is conveniently connected to the [Numpy](http://www.numpy.org/) and [Matplotlib](https://matplotlib.org/) libraries. \n",
    "\n",
    "***Hint:*** This part of the data science pipeline will test those skills you acquired in the pandas Foundations course, Module One. "
   ]
  },
  {
   "cell_type": "markdown",
   "metadata": {
    "colab_type": "text",
    "id": "aEau5nEvJpgm"
   },
   "source": [
    "#### 1.1. Importing Libraries"
   ]
  },
  {
   "cell_type": "code",
   "execution_count": 1,
   "metadata": {
    "colab": {},
    "colab_type": "code",
    "id": "7Bt_Q_oPJpgn"
   },
   "outputs": [],
   "source": [
    "# Let's import the pandas, numpy libraries as pd, and np respectively. \n",
    "import pandas as pd\n",
    "import numpy as np\n",
    "\n",
    "# Load the pyplot collection of functions from matplotlib, as plt \n",
    "import matplotlib.pyplot as plt"
   ]
  },
  {
   "cell_type": "markdown",
   "metadata": {
    "colab_type": "text",
    "id": "koUrawxsJpgq"
   },
   "source": [
    "#### 1.2.  Loading the data\n",
    "Your data comes from the [London Datastore](https://data.london.gov.uk/): a free, open-source data-sharing portal for London-oriented datasets. "
   ]
  },
  {
   "cell_type": "code",
   "execution_count": 2,
   "metadata": {
    "colab": {},
    "colab_type": "code",
    "id": "AiLiD4v3Jpgr"
   },
   "outputs": [],
   "source": [
    "# First, make a variable called url_LondonHousePrices, and assign it the following link, enclosed in quotation-marks as a string:\n",
    "# https://data.london.gov.uk/download/uk-house-price-index/70ac0766-8902-4eb5-aab5-01951aaed773/UK%20House%20price%20index.xls\n",
    "\n",
    "url_LondonHousePrices = \"https://data.london.gov.uk/download/uk-house-price-index/70ac0766-8902-4eb5-aab5-01951aaed773/UK%20House%20price%20index.xls\"\n",
    "\n",
    "# The dataset we're interested in contains the Average prices of the houses, and is actually on a particular sheet of the Excel file. \n",
    "# As a result, we need to specify the sheet name in the read_excel() method.\n",
    "# Put this data into a variable called properties.  \n",
    "properties = pd.read_excel(url_LondonHousePrices, sheet_name='Average price', index_col= None)"
   ]
  },
  {
   "cell_type": "markdown",
   "metadata": {
    "colab_type": "text",
    "id": "POukEJXgJpgu"
   },
   "source": [
    "### 2. Cleaning, transforming, and visualizing\n",
    "This second stage is arguably the most important part of any Data Science project. The first thing to do is take a proper look at the data. Cleaning forms the majority of this stage, and can be done both before or after Transformation.\n",
    "\n",
    "The end goal of data cleaning is to have tidy data. When data is tidy: \n",
    "\n",
    "1. Each variable has a column.\n",
    "2. Each observation forms a row.\n",
    "\n",
    "Keep the end goal in mind as you move through this process, every step will take you closer. \n",
    "\n",
    "\n",
    "\n",
    "***Hint:*** This part of the data science pipeline should test those skills you acquired in: \n",
    "- Intermediate Python for data science, all modules.\n",
    "- pandas Foundations, all modules. \n",
    "- Manipulating DataFrames with pandas, all modules.\n",
    "- Data Types for Data Science, Module Four.\n",
    "- Python Data Science Toolbox - Part One, all modules"
   ]
  },
  {
   "cell_type": "markdown",
   "metadata": {
    "colab_type": "text",
    "id": "Te0Q548tnzZa"
   },
   "source": [
    "**2.1. Exploring your data** \n",
    "\n",
    "Think about your pandas functions for checking out a dataframe. "
   ]
  },
  {
   "cell_type": "code",
   "execution_count": 3,
   "metadata": {},
   "outputs": [
    {
     "data": {
      "text/plain": [
       "(366, 49)"
      ]
     },
     "execution_count": 3,
     "metadata": {},
     "output_type": "execute_result"
    }
   ],
   "source": [
    "properties.shape"
   ]
  },
  {
   "cell_type": "code",
   "execution_count": 4,
   "metadata": {
    "colab": {},
    "colab_type": "code",
    "id": "Rxirxw_qoAJa"
   },
   "outputs": [
    {
     "data": {
      "text/html": [
       "<div>\n",
       "<style scoped>\n",
       "    .dataframe tbody tr th:only-of-type {\n",
       "        vertical-align: middle;\n",
       "    }\n",
       "\n",
       "    .dataframe tbody tr th {\n",
       "        vertical-align: top;\n",
       "    }\n",
       "\n",
       "    .dataframe thead th {\n",
       "        text-align: right;\n",
       "    }\n",
       "</style>\n",
       "<table border=\"1\" class=\"dataframe\">\n",
       "  <thead>\n",
       "    <tr style=\"text-align: right;\">\n",
       "      <th></th>\n",
       "      <th>Unnamed: 0</th>\n",
       "      <th>City of London</th>\n",
       "      <th>Barking &amp; Dagenham</th>\n",
       "      <th>Barnet</th>\n",
       "      <th>Bexley</th>\n",
       "      <th>Brent</th>\n",
       "      <th>Bromley</th>\n",
       "      <th>Camden</th>\n",
       "      <th>Croydon</th>\n",
       "      <th>Ealing</th>\n",
       "      <th>...</th>\n",
       "      <th>NORTH WEST</th>\n",
       "      <th>YORKS &amp; THE HUMBER</th>\n",
       "      <th>EAST MIDLANDS</th>\n",
       "      <th>WEST MIDLANDS</th>\n",
       "      <th>EAST OF ENGLAND</th>\n",
       "      <th>LONDON</th>\n",
       "      <th>SOUTH EAST</th>\n",
       "      <th>SOUTH WEST</th>\n",
       "      <th>Unnamed: 47</th>\n",
       "      <th>England</th>\n",
       "    </tr>\n",
       "  </thead>\n",
       "  <tbody>\n",
       "    <tr>\n",
       "      <th>0</th>\n",
       "      <td>NaT</td>\n",
       "      <td>E09000001</td>\n",
       "      <td>E09000002</td>\n",
       "      <td>E09000003</td>\n",
       "      <td>E09000004</td>\n",
       "      <td>E09000005</td>\n",
       "      <td>E09000006</td>\n",
       "      <td>E09000007</td>\n",
       "      <td>E09000008</td>\n",
       "      <td>E09000009</td>\n",
       "      <td>...</td>\n",
       "      <td>E12000002</td>\n",
       "      <td>E12000003</td>\n",
       "      <td>E12000004</td>\n",
       "      <td>E12000005</td>\n",
       "      <td>E12000006</td>\n",
       "      <td>E12000007</td>\n",
       "      <td>E12000008</td>\n",
       "      <td>E12000009</td>\n",
       "      <td>NaN</td>\n",
       "      <td>E92000001</td>\n",
       "    </tr>\n",
       "    <tr>\n",
       "      <th>1</th>\n",
       "      <td>1995-01-01</td>\n",
       "      <td>90347</td>\n",
       "      <td>51870</td>\n",
       "      <td>98948</td>\n",
       "      <td>64956</td>\n",
       "      <td>76880</td>\n",
       "      <td>83082</td>\n",
       "      <td>119775</td>\n",
       "      <td>70118</td>\n",
       "      <td>85469</td>\n",
       "      <td>...</td>\n",
       "      <td>40907</td>\n",
       "      <td>42171</td>\n",
       "      <td>43856</td>\n",
       "      <td>46470</td>\n",
       "      <td>56098</td>\n",
       "      <td>79687</td>\n",
       "      <td>64502</td>\n",
       "      <td>52799</td>\n",
       "      <td>NaN</td>\n",
       "      <td>50231</td>\n",
       "    </tr>\n",
       "    <tr>\n",
       "      <th>2</th>\n",
       "      <td>1995-02-01</td>\n",
       "      <td>81213</td>\n",
       "      <td>52513</td>\n",
       "      <td>98848</td>\n",
       "      <td>64786</td>\n",
       "      <td>77651</td>\n",
       "      <td>83068</td>\n",
       "      <td>118365</td>\n",
       "      <td>69908</td>\n",
       "      <td>86551</td>\n",
       "      <td>...</td>\n",
       "      <td>40877</td>\n",
       "      <td>41912</td>\n",
       "      <td>44344</td>\n",
       "      <td>47249</td>\n",
       "      <td>55991</td>\n",
       "      <td>77913</td>\n",
       "      <td>64196</td>\n",
       "      <td>52462</td>\n",
       "      <td>NaN</td>\n",
       "      <td>50130</td>\n",
       "    </tr>\n",
       "    <tr>\n",
       "      <th>3</th>\n",
       "      <td>1995-03-01</td>\n",
       "      <td>78168</td>\n",
       "      <td>52701</td>\n",
       "      <td>97848</td>\n",
       "      <td>64366</td>\n",
       "      <td>77644</td>\n",
       "      <td>82856</td>\n",
       "      <td>119131</td>\n",
       "      <td>69666</td>\n",
       "      <td>87067</td>\n",
       "      <td>...</td>\n",
       "      <td>41351</td>\n",
       "      <td>42544</td>\n",
       "      <td>43701</td>\n",
       "      <td>47345</td>\n",
       "      <td>55574</td>\n",
       "      <td>79110</td>\n",
       "      <td>64597</td>\n",
       "      <td>51716</td>\n",
       "      <td>NaN</td>\n",
       "      <td>50229</td>\n",
       "    </tr>\n",
       "    <tr>\n",
       "      <th>4</th>\n",
       "      <td>1995-04-01</td>\n",
       "      <td>76172</td>\n",
       "      <td>54618</td>\n",
       "      <td>96273</td>\n",
       "      <td>64276</td>\n",
       "      <td>78668</td>\n",
       "      <td>82525</td>\n",
       "      <td>118948</td>\n",
       "      <td>69562</td>\n",
       "      <td>87933</td>\n",
       "      <td>...</td>\n",
       "      <td>41195</td>\n",
       "      <td>42934</td>\n",
       "      <td>44414</td>\n",
       "      <td>47359</td>\n",
       "      <td>55966</td>\n",
       "      <td>79708</td>\n",
       "      <td>65111</td>\n",
       "      <td>52877</td>\n",
       "      <td>NaN</td>\n",
       "      <td>50597</td>\n",
       "    </tr>\n",
       "  </tbody>\n",
       "</table>\n",
       "<p>5 rows × 49 columns</p>\n",
       "</div>"
      ],
      "text/plain": [
       "  Unnamed: 0 City of London Barking & Dagenham     Barnet     Bexley  \\\n",
       "0        NaT      E09000001          E09000002  E09000003  E09000004   \n",
       "1 1995-01-01          90347              51870      98948      64956   \n",
       "2 1995-02-01          81213              52513      98848      64786   \n",
       "3 1995-03-01          78168              52701      97848      64366   \n",
       "4 1995-04-01          76172              54618      96273      64276   \n",
       "\n",
       "       Brent    Bromley     Camden    Croydon     Ealing  ... NORTH WEST  \\\n",
       "0  E09000005  E09000006  E09000007  E09000008  E09000009  ...  E12000002   \n",
       "1      76880      83082     119775      70118      85469  ...      40907   \n",
       "2      77651      83068     118365      69908      86551  ...      40877   \n",
       "3      77644      82856     119131      69666      87067  ...      41351   \n",
       "4      78668      82525     118948      69562      87933  ...      41195   \n",
       "\n",
       "  YORKS & THE HUMBER EAST MIDLANDS WEST MIDLANDS EAST OF ENGLAND     LONDON  \\\n",
       "0          E12000003     E12000004     E12000005       E12000006  E12000007   \n",
       "1              42171         43856         46470           56098      79687   \n",
       "2              41912         44344         47249           55991      77913   \n",
       "3              42544         43701         47345           55574      79110   \n",
       "4              42934         44414         47359           55966      79708   \n",
       "\n",
       "  SOUTH EAST SOUTH WEST Unnamed: 47    England  \n",
       "0  E12000008  E12000009         NaN  E92000001  \n",
       "1      64502      52799         NaN      50231  \n",
       "2      64196      52462         NaN      50130  \n",
       "3      64597      51716         NaN      50229  \n",
       "4      65111      52877         NaN      50597  \n",
       "\n",
       "[5 rows x 49 columns]"
      ]
     },
     "execution_count": 4,
     "metadata": {},
     "output_type": "execute_result"
    }
   ],
   "source": [
    "properties.head()"
   ]
  },
  {
   "cell_type": "markdown",
   "metadata": {
    "colab_type": "text",
    "id": "tE9Sqt9-oAta"
   },
   "source": [
    "**2.2. Cleaning the data**\n",
    "\n",
    "You might find you need to transpose your dataframe, check out what its row indexes are, and reset the index. You  also might find you need to assign the values of the first row to your column headings  . (Hint: recall the .columns feature of DataFrames, as well as the iloc[] method).\n",
    "\n",
    "Don't be afraid to use StackOverflow for help  with this."
   ]
  },
  {
   "cell_type": "code",
   "execution_count": 5,
   "metadata": {
    "colab": {},
    "colab_type": "code",
    "id": "cdAu1A3YoH_r"
   },
   "outputs": [],
   "source": [
    "properties_T = properties.transpose()"
   ]
  },
  {
   "cell_type": "code",
   "execution_count": 6,
   "metadata": {},
   "outputs": [
    {
     "data": {
      "text/plain": [
       "Index(['Unnamed: 0', 'City of London', 'Barking & Dagenham', 'Barnet',\n",
       "       'Bexley', 'Brent', 'Bromley', 'Camden', 'Croydon', 'Ealing', 'Enfield',\n",
       "       'Greenwich', 'Hackney', 'Hammersmith & Fulham', 'Haringey', 'Harrow',\n",
       "       'Havering', 'Hillingdon', 'Hounslow', 'Islington',\n",
       "       'Kensington & Chelsea', 'Kingston upon Thames', 'Lambeth', 'Lewisham',\n",
       "       'Merton', 'Newham', 'Redbridge', 'Richmond upon Thames', 'Southwark',\n",
       "       'Sutton', 'Tower Hamlets', 'Waltham Forest', 'Wandsworth',\n",
       "       'Westminster', 'Unnamed: 34', 'Inner London', 'Outer London',\n",
       "       'Unnamed: 37', 'NORTH EAST', 'NORTH WEST', 'YORKS & THE HUMBER',\n",
       "       'EAST MIDLANDS', 'WEST MIDLANDS', 'EAST OF ENGLAND', 'LONDON',\n",
       "       'SOUTH EAST', 'SOUTH WEST', 'Unnamed: 47', 'England'],\n",
       "      dtype='object')"
      ]
     },
     "execution_count": 6,
     "metadata": {},
     "output_type": "execute_result"
    }
   ],
   "source": [
    "properties_T.index"
   ]
  },
  {
   "cell_type": "code",
   "execution_count": 7,
   "metadata": {},
   "outputs": [
    {
     "data": {
      "text/plain": [
       "RangeIndex(start=0, stop=49, step=1)"
      ]
     },
     "execution_count": 7,
     "metadata": {},
     "output_type": "execute_result"
    }
   ],
   "source": [
    "properties_T = properties_T.reset_index()\n",
    "properties_T.index"
   ]
  },
  {
   "cell_type": "code",
   "execution_count": 8,
   "metadata": {},
   "outputs": [
    {
     "data": {
      "text/html": [
       "<div>\n",
       "<style scoped>\n",
       "    .dataframe tbody tr th:only-of-type {\n",
       "        vertical-align: middle;\n",
       "    }\n",
       "\n",
       "    .dataframe tbody tr th {\n",
       "        vertical-align: top;\n",
       "    }\n",
       "\n",
       "    .dataframe thead th {\n",
       "        text-align: right;\n",
       "    }\n",
       "</style>\n",
       "<table border=\"1\" class=\"dataframe\">\n",
       "  <thead>\n",
       "    <tr style=\"text-align: right;\">\n",
       "      <th></th>\n",
       "      <th>index</th>\n",
       "      <th>0</th>\n",
       "      <th>1</th>\n",
       "      <th>2</th>\n",
       "      <th>3</th>\n",
       "      <th>4</th>\n",
       "      <th>5</th>\n",
       "      <th>6</th>\n",
       "      <th>7</th>\n",
       "      <th>8</th>\n",
       "      <th>...</th>\n",
       "      <th>356</th>\n",
       "      <th>357</th>\n",
       "      <th>358</th>\n",
       "      <th>359</th>\n",
       "      <th>360</th>\n",
       "      <th>361</th>\n",
       "      <th>362</th>\n",
       "      <th>363</th>\n",
       "      <th>364</th>\n",
       "      <th>365</th>\n",
       "    </tr>\n",
       "  </thead>\n",
       "  <tbody>\n",
       "    <tr>\n",
       "      <th>0</th>\n",
       "      <td>Unnamed: 0</td>\n",
       "      <td>NaT</td>\n",
       "      <td>1995-01-01 00:00:00</td>\n",
       "      <td>1995-02-01 00:00:00</td>\n",
       "      <td>1995-03-01 00:00:00</td>\n",
       "      <td>1995-04-01 00:00:00</td>\n",
       "      <td>1995-05-01 00:00:00</td>\n",
       "      <td>1995-06-01 00:00:00</td>\n",
       "      <td>1995-07-01 00:00:00</td>\n",
       "      <td>1995-08-01 00:00:00</td>\n",
       "      <td>...</td>\n",
       "      <td>2024-08-01 00:00:00</td>\n",
       "      <td>2024-09-01 00:00:00</td>\n",
       "      <td>2024-10-01 00:00:00</td>\n",
       "      <td>2024-11-01 00:00:00</td>\n",
       "      <td>2024-12-01 00:00:00</td>\n",
       "      <td>2025-01-01 00:00:00</td>\n",
       "      <td>2025-02-01 00:00:00</td>\n",
       "      <td>2025-03-01 00:00:00</td>\n",
       "      <td>2025-04-01 00:00:00</td>\n",
       "      <td>2025-05-01 00:00:00</td>\n",
       "    </tr>\n",
       "    <tr>\n",
       "      <th>1</th>\n",
       "      <td>City of London</td>\n",
       "      <td>E09000001</td>\n",
       "      <td>90347</td>\n",
       "      <td>81213</td>\n",
       "      <td>78168</td>\n",
       "      <td>76172</td>\n",
       "      <td>83392</td>\n",
       "      <td>93757</td>\n",
       "      <td>108801</td>\n",
       "      <td>110976</td>\n",
       "      <td>...</td>\n",
       "      <td>764921</td>\n",
       "      <td>763706</td>\n",
       "      <td>741765</td>\n",
       "      <td>727751</td>\n",
       "      <td>777288</td>\n",
       "      <td>783207</td>\n",
       "      <td>766638</td>\n",
       "      <td>722888</td>\n",
       "      <td>760612</td>\n",
       "      <td>823848</td>\n",
       "    </tr>\n",
       "    <tr>\n",
       "      <th>2</th>\n",
       "      <td>Barking &amp; Dagenham</td>\n",
       "      <td>E09000002</td>\n",
       "      <td>51870</td>\n",
       "      <td>52513</td>\n",
       "      <td>52701</td>\n",
       "      <td>54618</td>\n",
       "      <td>54524</td>\n",
       "      <td>55200</td>\n",
       "      <td>53569</td>\n",
       "      <td>53691</td>\n",
       "      <td>...</td>\n",
       "      <td>335087</td>\n",
       "      <td>339744</td>\n",
       "      <td>347931</td>\n",
       "      <td>352895</td>\n",
       "      <td>355425</td>\n",
       "      <td>353979</td>\n",
       "      <td>363732</td>\n",
       "      <td>372806</td>\n",
       "      <td>374253</td>\n",
       "      <td>370694</td>\n",
       "    </tr>\n",
       "    <tr>\n",
       "      <th>3</th>\n",
       "      <td>Barnet</td>\n",
       "      <td>E09000003</td>\n",
       "      <td>98948</td>\n",
       "      <td>98848</td>\n",
       "      <td>97848</td>\n",
       "      <td>96273</td>\n",
       "      <td>95737</td>\n",
       "      <td>95577</td>\n",
       "      <td>96992</td>\n",
       "      <td>97968</td>\n",
       "      <td>...</td>\n",
       "      <td>628928</td>\n",
       "      <td>627552</td>\n",
       "      <td>629655</td>\n",
       "      <td>632386</td>\n",
       "      <td>627547</td>\n",
       "      <td>614121</td>\n",
       "      <td>606811</td>\n",
       "      <td>604788</td>\n",
       "      <td>598964</td>\n",
       "      <td>590194</td>\n",
       "    </tr>\n",
       "    <tr>\n",
       "      <th>4</th>\n",
       "      <td>Bexley</td>\n",
       "      <td>E09000004</td>\n",
       "      <td>64956</td>\n",
       "      <td>64786</td>\n",
       "      <td>64366</td>\n",
       "      <td>64276</td>\n",
       "      <td>63995</td>\n",
       "      <td>64251</td>\n",
       "      <td>63721</td>\n",
       "      <td>64431</td>\n",
       "      <td>...</td>\n",
       "      <td>404352</td>\n",
       "      <td>406132</td>\n",
       "      <td>407721</td>\n",
       "      <td>406226</td>\n",
       "      <td>403881</td>\n",
       "      <td>405166</td>\n",
       "      <td>407068</td>\n",
       "      <td>406953</td>\n",
       "      <td>396072</td>\n",
       "      <td>394537</td>\n",
       "    </tr>\n",
       "  </tbody>\n",
       "</table>\n",
       "<p>5 rows × 367 columns</p>\n",
       "</div>"
      ],
      "text/plain": [
       "                index          0                    1                    2  \\\n",
       "0          Unnamed: 0        NaT  1995-01-01 00:00:00  1995-02-01 00:00:00   \n",
       "1      City of London  E09000001                90347                81213   \n",
       "2  Barking & Dagenham  E09000002                51870                52513   \n",
       "3              Barnet  E09000003                98948                98848   \n",
       "4              Bexley  E09000004                64956                64786   \n",
       "\n",
       "                     3                    4                    5  \\\n",
       "0  1995-03-01 00:00:00  1995-04-01 00:00:00  1995-05-01 00:00:00   \n",
       "1                78168                76172                83392   \n",
       "2                52701                54618                54524   \n",
       "3                97848                96273                95737   \n",
       "4                64366                64276                63995   \n",
       "\n",
       "                     6                    7                    8  ...  \\\n",
       "0  1995-06-01 00:00:00  1995-07-01 00:00:00  1995-08-01 00:00:00  ...   \n",
       "1                93757               108801               110976  ...   \n",
       "2                55200                53569                53691  ...   \n",
       "3                95577                96992                97968  ...   \n",
       "4                64251                63721                64431  ...   \n",
       "\n",
       "                   356                  357                  358  \\\n",
       "0  2024-08-01 00:00:00  2024-09-01 00:00:00  2024-10-01 00:00:00   \n",
       "1               764921               763706               741765   \n",
       "2               335087               339744               347931   \n",
       "3               628928               627552               629655   \n",
       "4               404352               406132               407721   \n",
       "\n",
       "                   359                  360                  361  \\\n",
       "0  2024-11-01 00:00:00  2024-12-01 00:00:00  2025-01-01 00:00:00   \n",
       "1               727751               777288               783207   \n",
       "2               352895               355425               353979   \n",
       "3               632386               627547               614121   \n",
       "4               406226               403881               405166   \n",
       "\n",
       "                   362                  363                  364  \\\n",
       "0  2025-02-01 00:00:00  2025-03-01 00:00:00  2025-04-01 00:00:00   \n",
       "1               766638               722888               760612   \n",
       "2               363732               372806               374253   \n",
       "3               606811               604788               598964   \n",
       "4               407068               406953               396072   \n",
       "\n",
       "                   365  \n",
       "0  2025-05-01 00:00:00  \n",
       "1               823848  \n",
       "2               370694  \n",
       "3               590194  \n",
       "4               394537  \n",
       "\n",
       "[5 rows x 367 columns]"
      ]
     },
     "execution_count": 8,
     "metadata": {},
     "output_type": "execute_result"
    }
   ],
   "source": [
    "properties_T.head()"
   ]
  },
  {
   "cell_type": "code",
   "execution_count": 9,
   "metadata": {},
   "outputs": [
    {
     "data": {
      "text/plain": [
       "Index(['index',       0,       1,       2,       3,       4,       5,       6,\n",
       "             7,       8,\n",
       "       ...\n",
       "           356,     357,     358,     359,     360,     361,     362,     363,\n",
       "           364,     365],\n",
       "      dtype='object', length=367)"
      ]
     },
     "execution_count": 9,
     "metadata": {},
     "output_type": "execute_result"
    }
   ],
   "source": [
    "properties_T.columns"
   ]
  },
  {
   "cell_type": "code",
   "execution_count": 10,
   "metadata": {},
   "outputs": [
    {
     "data": {
      "text/plain": [
       "index             Unnamed: 0\n",
       "0                        NaT\n",
       "1        1995-01-01 00:00:00\n",
       "2        1995-02-01 00:00:00\n",
       "3        1995-03-01 00:00:00\n",
       "                ...         \n",
       "361      2025-01-01 00:00:00\n",
       "362      2025-02-01 00:00:00\n",
       "363      2025-03-01 00:00:00\n",
       "364      2025-04-01 00:00:00\n",
       "365      2025-05-01 00:00:00\n",
       "Name: 0, Length: 367, dtype: object"
      ]
     },
     "execution_count": 10,
     "metadata": {},
     "output_type": "execute_result"
    }
   ],
   "source": [
    "properties_T.iloc[0]"
   ]
  },
  {
   "cell_type": "code",
   "execution_count": 11,
   "metadata": {
    "colab": {},
    "colab_type": "code",
    "id": "GKkmn1AnoVZS"
   },
   "outputs": [],
   "source": [
    "properties_T.columns = properties_T.iloc[0]"
   ]
  },
  {
   "cell_type": "code",
   "execution_count": 12,
   "metadata": {},
   "outputs": [
    {
     "data": {
      "text/html": [
       "<div>\n",
       "<style scoped>\n",
       "    .dataframe tbody tr th:only-of-type {\n",
       "        vertical-align: middle;\n",
       "    }\n",
       "\n",
       "    .dataframe tbody tr th {\n",
       "        vertical-align: top;\n",
       "    }\n",
       "\n",
       "    .dataframe thead th {\n",
       "        text-align: right;\n",
       "    }\n",
       "</style>\n",
       "<table border=\"1\" class=\"dataframe\">\n",
       "  <thead>\n",
       "    <tr style=\"text-align: right;\">\n",
       "      <th></th>\n",
       "      <th>Unnamed: 0</th>\n",
       "      <th>NaT</th>\n",
       "      <th>1995-01-01 00:00:00</th>\n",
       "      <th>1995-02-01 00:00:00</th>\n",
       "      <th>1995-03-01 00:00:00</th>\n",
       "      <th>1995-04-01 00:00:00</th>\n",
       "      <th>1995-05-01 00:00:00</th>\n",
       "      <th>1995-06-01 00:00:00</th>\n",
       "      <th>1995-07-01 00:00:00</th>\n",
       "      <th>1995-08-01 00:00:00</th>\n",
       "      <th>...</th>\n",
       "      <th>2024-08-01 00:00:00</th>\n",
       "      <th>2024-09-01 00:00:00</th>\n",
       "      <th>2024-10-01 00:00:00</th>\n",
       "      <th>2024-11-01 00:00:00</th>\n",
       "      <th>2024-12-01 00:00:00</th>\n",
       "      <th>2025-01-01 00:00:00</th>\n",
       "      <th>2025-02-01 00:00:00</th>\n",
       "      <th>2025-03-01 00:00:00</th>\n",
       "      <th>2025-04-01 00:00:00</th>\n",
       "      <th>2025-05-01 00:00:00</th>\n",
       "    </tr>\n",
       "  </thead>\n",
       "  <tbody>\n",
       "    <tr>\n",
       "      <th>1</th>\n",
       "      <td>City of London</td>\n",
       "      <td>E09000001</td>\n",
       "      <td>90347</td>\n",
       "      <td>81213</td>\n",
       "      <td>78168</td>\n",
       "      <td>76172</td>\n",
       "      <td>83392</td>\n",
       "      <td>93757</td>\n",
       "      <td>108801</td>\n",
       "      <td>110976</td>\n",
       "      <td>...</td>\n",
       "      <td>764921</td>\n",
       "      <td>763706</td>\n",
       "      <td>741765</td>\n",
       "      <td>727751</td>\n",
       "      <td>777288</td>\n",
       "      <td>783207</td>\n",
       "      <td>766638</td>\n",
       "      <td>722888</td>\n",
       "      <td>760612</td>\n",
       "      <td>823848</td>\n",
       "    </tr>\n",
       "    <tr>\n",
       "      <th>2</th>\n",
       "      <td>Barking &amp; Dagenham</td>\n",
       "      <td>E09000002</td>\n",
       "      <td>51870</td>\n",
       "      <td>52513</td>\n",
       "      <td>52701</td>\n",
       "      <td>54618</td>\n",
       "      <td>54524</td>\n",
       "      <td>55200</td>\n",
       "      <td>53569</td>\n",
       "      <td>53691</td>\n",
       "      <td>...</td>\n",
       "      <td>335087</td>\n",
       "      <td>339744</td>\n",
       "      <td>347931</td>\n",
       "      <td>352895</td>\n",
       "      <td>355425</td>\n",
       "      <td>353979</td>\n",
       "      <td>363732</td>\n",
       "      <td>372806</td>\n",
       "      <td>374253</td>\n",
       "      <td>370694</td>\n",
       "    </tr>\n",
       "    <tr>\n",
       "      <th>3</th>\n",
       "      <td>Barnet</td>\n",
       "      <td>E09000003</td>\n",
       "      <td>98948</td>\n",
       "      <td>98848</td>\n",
       "      <td>97848</td>\n",
       "      <td>96273</td>\n",
       "      <td>95737</td>\n",
       "      <td>95577</td>\n",
       "      <td>96992</td>\n",
       "      <td>97968</td>\n",
       "      <td>...</td>\n",
       "      <td>628928</td>\n",
       "      <td>627552</td>\n",
       "      <td>629655</td>\n",
       "      <td>632386</td>\n",
       "      <td>627547</td>\n",
       "      <td>614121</td>\n",
       "      <td>606811</td>\n",
       "      <td>604788</td>\n",
       "      <td>598964</td>\n",
       "      <td>590194</td>\n",
       "    </tr>\n",
       "    <tr>\n",
       "      <th>4</th>\n",
       "      <td>Bexley</td>\n",
       "      <td>E09000004</td>\n",
       "      <td>64956</td>\n",
       "      <td>64786</td>\n",
       "      <td>64366</td>\n",
       "      <td>64276</td>\n",
       "      <td>63995</td>\n",
       "      <td>64251</td>\n",
       "      <td>63721</td>\n",
       "      <td>64431</td>\n",
       "      <td>...</td>\n",
       "      <td>404352</td>\n",
       "      <td>406132</td>\n",
       "      <td>407721</td>\n",
       "      <td>406226</td>\n",
       "      <td>403881</td>\n",
       "      <td>405166</td>\n",
       "      <td>407068</td>\n",
       "      <td>406953</td>\n",
       "      <td>396072</td>\n",
       "      <td>394537</td>\n",
       "    </tr>\n",
       "    <tr>\n",
       "      <th>5</th>\n",
       "      <td>Brent</td>\n",
       "      <td>E09000005</td>\n",
       "      <td>76880</td>\n",
       "      <td>77651</td>\n",
       "      <td>77644</td>\n",
       "      <td>78668</td>\n",
       "      <td>79464</td>\n",
       "      <td>80118</td>\n",
       "      <td>79920</td>\n",
       "      <td>79295</td>\n",
       "      <td>...</td>\n",
       "      <td>573670</td>\n",
       "      <td>580059</td>\n",
       "      <td>593569</td>\n",
       "      <td>590426</td>\n",
       "      <td>579868</td>\n",
       "      <td>571036</td>\n",
       "      <td>562918</td>\n",
       "      <td>563087</td>\n",
       "      <td>566629</td>\n",
       "      <td>562397</td>\n",
       "    </tr>\n",
       "  </tbody>\n",
       "</table>\n",
       "<p>5 rows × 367 columns</p>\n",
       "</div>"
      ],
      "text/plain": [
       "0          Unnamed: 0        NaT 1995-01-01 00:00:00 1995-02-01 00:00:00  \\\n",
       "1      City of London  E09000001               90347               81213   \n",
       "2  Barking & Dagenham  E09000002               51870               52513   \n",
       "3              Barnet  E09000003               98948               98848   \n",
       "4              Bexley  E09000004               64956               64786   \n",
       "5               Brent  E09000005               76880               77651   \n",
       "\n",
       "0 1995-03-01 00:00:00 1995-04-01 00:00:00 1995-05-01 00:00:00  \\\n",
       "1               78168               76172               83392   \n",
       "2               52701               54618               54524   \n",
       "3               97848               96273               95737   \n",
       "4               64366               64276               63995   \n",
       "5               77644               78668               79464   \n",
       "\n",
       "0 1995-06-01 00:00:00 1995-07-01 00:00:00 1995-08-01 00:00:00  ...  \\\n",
       "1               93757              108801              110976  ...   \n",
       "2               55200               53569               53691  ...   \n",
       "3               95577               96992               97968  ...   \n",
       "4               64251               63721               64431  ...   \n",
       "5               80118               79920               79295  ...   \n",
       "\n",
       "0 2024-08-01 00:00:00 2024-09-01 00:00:00 2024-10-01 00:00:00  \\\n",
       "1              764921              763706              741765   \n",
       "2              335087              339744              347931   \n",
       "3              628928              627552              629655   \n",
       "4              404352              406132              407721   \n",
       "5              573670              580059              593569   \n",
       "\n",
       "0 2024-11-01 00:00:00 2024-12-01 00:00:00 2025-01-01 00:00:00  \\\n",
       "1              727751              777288              783207   \n",
       "2              352895              355425              353979   \n",
       "3              632386              627547              614121   \n",
       "4              406226              403881              405166   \n",
       "5              590426              579868              571036   \n",
       "\n",
       "0 2025-02-01 00:00:00 2025-03-01 00:00:00 2025-04-01 00:00:00  \\\n",
       "1              766638              722888              760612   \n",
       "2              363732              372806              374253   \n",
       "3              606811              604788              598964   \n",
       "4              407068              406953              396072   \n",
       "5              562918              563087              566629   \n",
       "\n",
       "0 2025-05-01 00:00:00  \n",
       "1              823848  \n",
       "2              370694  \n",
       "3              590194  \n",
       "4              394537  \n",
       "5              562397  \n",
       "\n",
       "[5 rows x 367 columns]"
      ]
     },
     "execution_count": 12,
     "metadata": {},
     "output_type": "execute_result"
    }
   ],
   "source": [
    "properties_T = properties_T.drop(0)\n",
    "properties_T.head()"
   ]
  },
  {
   "cell_type": "markdown",
   "metadata": {
    "colab_type": "text",
    "id": "o1uLbJAsoIjK"
   },
   "source": [
    "**2.3. Cleaning the data (part 2)**\n",
    "\n",
    "You might we have to **rename** a couple columns. How do you do this? The clue's pretty bold..."
   ]
  },
  {
   "cell_type": "code",
   "execution_count": 13,
   "metadata": {},
   "outputs": [
    {
     "data": {
      "text/plain": [
       "Index([   'London_Borough',                'ID', 1995-01-01 00:00:00,\n",
       "       1995-02-01 00:00:00, 1995-03-01 00:00:00, 1995-04-01 00:00:00,\n",
       "       1995-05-01 00:00:00, 1995-06-01 00:00:00, 1995-07-01 00:00:00,\n",
       "       1995-08-01 00:00:00,\n",
       "       ...\n",
       "       2024-08-01 00:00:00, 2024-09-01 00:00:00, 2024-10-01 00:00:00,\n",
       "       2024-11-01 00:00:00, 2024-12-01 00:00:00, 2025-01-01 00:00:00,\n",
       "       2025-02-01 00:00:00, 2025-03-01 00:00:00, 2025-04-01 00:00:00,\n",
       "       2025-05-01 00:00:00],\n",
       "      dtype='object', name=0, length=367)"
      ]
     },
     "execution_count": 13,
     "metadata": {},
     "output_type": "execute_result"
    }
   ],
   "source": [
    "properties_T= properties_T.rename(columns={'Unnamed: 0':'London_Borough', pd.NaT : 'ID'})\n",
    "properties_T.columns"
   ]
  },
  {
   "cell_type": "code",
   "execution_count": 14,
   "metadata": {},
   "outputs": [
    {
     "data": {
      "text/html": [
       "<div>\n",
       "<style scoped>\n",
       "    .dataframe tbody tr th:only-of-type {\n",
       "        vertical-align: middle;\n",
       "    }\n",
       "\n",
       "    .dataframe tbody tr th {\n",
       "        vertical-align: top;\n",
       "    }\n",
       "\n",
       "    .dataframe thead th {\n",
       "        text-align: right;\n",
       "    }\n",
       "</style>\n",
       "<table border=\"1\" class=\"dataframe\">\n",
       "  <thead>\n",
       "    <tr style=\"text-align: right;\">\n",
       "      <th></th>\n",
       "      <th>London_Borough</th>\n",
       "      <th>ID</th>\n",
       "      <th>1995-01-01 00:00:00</th>\n",
       "      <th>1995-02-01 00:00:00</th>\n",
       "      <th>1995-03-01 00:00:00</th>\n",
       "      <th>1995-04-01 00:00:00</th>\n",
       "      <th>1995-05-01 00:00:00</th>\n",
       "      <th>1995-06-01 00:00:00</th>\n",
       "      <th>1995-07-01 00:00:00</th>\n",
       "      <th>1995-08-01 00:00:00</th>\n",
       "      <th>...</th>\n",
       "      <th>2024-08-01 00:00:00</th>\n",
       "      <th>2024-09-01 00:00:00</th>\n",
       "      <th>2024-10-01 00:00:00</th>\n",
       "      <th>2024-11-01 00:00:00</th>\n",
       "      <th>2024-12-01 00:00:00</th>\n",
       "      <th>2025-01-01 00:00:00</th>\n",
       "      <th>2025-02-01 00:00:00</th>\n",
       "      <th>2025-03-01 00:00:00</th>\n",
       "      <th>2025-04-01 00:00:00</th>\n",
       "      <th>2025-05-01 00:00:00</th>\n",
       "    </tr>\n",
       "  </thead>\n",
       "  <tbody>\n",
       "    <tr>\n",
       "      <th>1</th>\n",
       "      <td>City of London</td>\n",
       "      <td>E09000001</td>\n",
       "      <td>90347</td>\n",
       "      <td>81213</td>\n",
       "      <td>78168</td>\n",
       "      <td>76172</td>\n",
       "      <td>83392</td>\n",
       "      <td>93757</td>\n",
       "      <td>108801</td>\n",
       "      <td>110976</td>\n",
       "      <td>...</td>\n",
       "      <td>764921</td>\n",
       "      <td>763706</td>\n",
       "      <td>741765</td>\n",
       "      <td>727751</td>\n",
       "      <td>777288</td>\n",
       "      <td>783207</td>\n",
       "      <td>766638</td>\n",
       "      <td>722888</td>\n",
       "      <td>760612</td>\n",
       "      <td>823848</td>\n",
       "    </tr>\n",
       "    <tr>\n",
       "      <th>2</th>\n",
       "      <td>Barking &amp; Dagenham</td>\n",
       "      <td>E09000002</td>\n",
       "      <td>51870</td>\n",
       "      <td>52513</td>\n",
       "      <td>52701</td>\n",
       "      <td>54618</td>\n",
       "      <td>54524</td>\n",
       "      <td>55200</td>\n",
       "      <td>53569</td>\n",
       "      <td>53691</td>\n",
       "      <td>...</td>\n",
       "      <td>335087</td>\n",
       "      <td>339744</td>\n",
       "      <td>347931</td>\n",
       "      <td>352895</td>\n",
       "      <td>355425</td>\n",
       "      <td>353979</td>\n",
       "      <td>363732</td>\n",
       "      <td>372806</td>\n",
       "      <td>374253</td>\n",
       "      <td>370694</td>\n",
       "    </tr>\n",
       "    <tr>\n",
       "      <th>3</th>\n",
       "      <td>Barnet</td>\n",
       "      <td>E09000003</td>\n",
       "      <td>98948</td>\n",
       "      <td>98848</td>\n",
       "      <td>97848</td>\n",
       "      <td>96273</td>\n",
       "      <td>95737</td>\n",
       "      <td>95577</td>\n",
       "      <td>96992</td>\n",
       "      <td>97968</td>\n",
       "      <td>...</td>\n",
       "      <td>628928</td>\n",
       "      <td>627552</td>\n",
       "      <td>629655</td>\n",
       "      <td>632386</td>\n",
       "      <td>627547</td>\n",
       "      <td>614121</td>\n",
       "      <td>606811</td>\n",
       "      <td>604788</td>\n",
       "      <td>598964</td>\n",
       "      <td>590194</td>\n",
       "    </tr>\n",
       "    <tr>\n",
       "      <th>4</th>\n",
       "      <td>Bexley</td>\n",
       "      <td>E09000004</td>\n",
       "      <td>64956</td>\n",
       "      <td>64786</td>\n",
       "      <td>64366</td>\n",
       "      <td>64276</td>\n",
       "      <td>63995</td>\n",
       "      <td>64251</td>\n",
       "      <td>63721</td>\n",
       "      <td>64431</td>\n",
       "      <td>...</td>\n",
       "      <td>404352</td>\n",
       "      <td>406132</td>\n",
       "      <td>407721</td>\n",
       "      <td>406226</td>\n",
       "      <td>403881</td>\n",
       "      <td>405166</td>\n",
       "      <td>407068</td>\n",
       "      <td>406953</td>\n",
       "      <td>396072</td>\n",
       "      <td>394537</td>\n",
       "    </tr>\n",
       "    <tr>\n",
       "      <th>5</th>\n",
       "      <td>Brent</td>\n",
       "      <td>E09000005</td>\n",
       "      <td>76880</td>\n",
       "      <td>77651</td>\n",
       "      <td>77644</td>\n",
       "      <td>78668</td>\n",
       "      <td>79464</td>\n",
       "      <td>80118</td>\n",
       "      <td>79920</td>\n",
       "      <td>79295</td>\n",
       "      <td>...</td>\n",
       "      <td>573670</td>\n",
       "      <td>580059</td>\n",
       "      <td>593569</td>\n",
       "      <td>590426</td>\n",
       "      <td>579868</td>\n",
       "      <td>571036</td>\n",
       "      <td>562918</td>\n",
       "      <td>563087</td>\n",
       "      <td>566629</td>\n",
       "      <td>562397</td>\n",
       "    </tr>\n",
       "  </tbody>\n",
       "</table>\n",
       "<p>5 rows × 367 columns</p>\n",
       "</div>"
      ],
      "text/plain": [
       "0      London_Borough         ID 1995-01-01 00:00:00 1995-02-01 00:00:00  \\\n",
       "1      City of London  E09000001               90347               81213   \n",
       "2  Barking & Dagenham  E09000002               51870               52513   \n",
       "3              Barnet  E09000003               98948               98848   \n",
       "4              Bexley  E09000004               64956               64786   \n",
       "5               Brent  E09000005               76880               77651   \n",
       "\n",
       "0 1995-03-01 00:00:00 1995-04-01 00:00:00 1995-05-01 00:00:00  \\\n",
       "1               78168               76172               83392   \n",
       "2               52701               54618               54524   \n",
       "3               97848               96273               95737   \n",
       "4               64366               64276               63995   \n",
       "5               77644               78668               79464   \n",
       "\n",
       "0 1995-06-01 00:00:00 1995-07-01 00:00:00 1995-08-01 00:00:00  ...  \\\n",
       "1               93757              108801              110976  ...   \n",
       "2               55200               53569               53691  ...   \n",
       "3               95577               96992               97968  ...   \n",
       "4               64251               63721               64431  ...   \n",
       "5               80118               79920               79295  ...   \n",
       "\n",
       "0 2024-08-01 00:00:00 2024-09-01 00:00:00 2024-10-01 00:00:00  \\\n",
       "1              764921              763706              741765   \n",
       "2              335087              339744              347931   \n",
       "3              628928              627552              629655   \n",
       "4              404352              406132              407721   \n",
       "5              573670              580059              593569   \n",
       "\n",
       "0 2024-11-01 00:00:00 2024-12-01 00:00:00 2025-01-01 00:00:00  \\\n",
       "1              727751              777288              783207   \n",
       "2              352895              355425              353979   \n",
       "3              632386              627547              614121   \n",
       "4              406226              403881              405166   \n",
       "5              590426              579868              571036   \n",
       "\n",
       "0 2025-02-01 00:00:00 2025-03-01 00:00:00 2025-04-01 00:00:00  \\\n",
       "1              766638              722888              760612   \n",
       "2              363732              372806              374253   \n",
       "3              606811              604788              598964   \n",
       "4              407068              406953              396072   \n",
       "5              562918              563087              566629   \n",
       "\n",
       "0 2025-05-01 00:00:00  \n",
       "1              823848  \n",
       "2              370694  \n",
       "3              590194  \n",
       "4              394537  \n",
       "5              562397  \n",
       "\n",
       "[5 rows x 367 columns]"
      ]
     },
     "execution_count": 14,
     "metadata": {},
     "output_type": "execute_result"
    }
   ],
   "source": [
    "properties_T.head()"
   ]
  },
  {
   "cell_type": "markdown",
   "metadata": {
    "colab_type": "text",
    "id": "jy8BzXHmoWEw"
   },
   "source": [
    "**2.4.Transforming the data**\n",
    "\n",
    "Remember what Wes McKinney said about tidy data? \n",
    "\n",
    "You might need to **melt** your DataFrame here. "
   ]
  },
  {
   "cell_type": "code",
   "execution_count": 15,
   "metadata": {
    "colab": {},
    "colab_type": "code",
    "id": "S2wM0qLuo2Zt"
   },
   "outputs": [
    {
     "data": {
      "text/html": [
       "<div>\n",
       "<style scoped>\n",
       "    .dataframe tbody tr th:only-of-type {\n",
       "        vertical-align: middle;\n",
       "    }\n",
       "\n",
       "    .dataframe tbody tr th {\n",
       "        vertical-align: top;\n",
       "    }\n",
       "\n",
       "    .dataframe thead th {\n",
       "        text-align: right;\n",
       "    }\n",
       "</style>\n",
       "<table border=\"1\" class=\"dataframe\">\n",
       "  <thead>\n",
       "    <tr style=\"text-align: right;\">\n",
       "      <th></th>\n",
       "      <th>London_Borough</th>\n",
       "      <th>ID</th>\n",
       "      <th>Month</th>\n",
       "      <th>Avg_price</th>\n",
       "    </tr>\n",
       "  </thead>\n",
       "  <tbody>\n",
       "    <tr>\n",
       "      <th>0</th>\n",
       "      <td>City of London</td>\n",
       "      <td>E09000001</td>\n",
       "      <td>1995-01-01 00:00:00</td>\n",
       "      <td>90347</td>\n",
       "    </tr>\n",
       "    <tr>\n",
       "      <th>1</th>\n",
       "      <td>Barking &amp; Dagenham</td>\n",
       "      <td>E09000002</td>\n",
       "      <td>1995-01-01 00:00:00</td>\n",
       "      <td>51870</td>\n",
       "    </tr>\n",
       "    <tr>\n",
       "      <th>2</th>\n",
       "      <td>Barnet</td>\n",
       "      <td>E09000003</td>\n",
       "      <td>1995-01-01 00:00:00</td>\n",
       "      <td>98948</td>\n",
       "    </tr>\n",
       "    <tr>\n",
       "      <th>3</th>\n",
       "      <td>Bexley</td>\n",
       "      <td>E09000004</td>\n",
       "      <td>1995-01-01 00:00:00</td>\n",
       "      <td>64956</td>\n",
       "    </tr>\n",
       "    <tr>\n",
       "      <th>4</th>\n",
       "      <td>Brent</td>\n",
       "      <td>E09000005</td>\n",
       "      <td>1995-01-01 00:00:00</td>\n",
       "      <td>76880</td>\n",
       "    </tr>\n",
       "  </tbody>\n",
       "</table>\n",
       "</div>"
      ],
      "text/plain": [
       "       London_Borough         ID                Month Avg_price\n",
       "0      City of London  E09000001  1995-01-01 00:00:00     90347\n",
       "1  Barking & Dagenham  E09000002  1995-01-01 00:00:00     51870\n",
       "2              Barnet  E09000003  1995-01-01 00:00:00     98948\n",
       "3              Bexley  E09000004  1995-01-01 00:00:00     64956\n",
       "4               Brent  E09000005  1995-01-01 00:00:00     76880"
      ]
     },
     "execution_count": 15,
     "metadata": {},
     "output_type": "execute_result"
    }
   ],
   "source": [
    "long_properties = pd.melt(properties_T, id_vars=['London_Borough','ID'],var_name='Month', value_name='Avg_price')\n",
    "long_properties.head()"
   ]
  },
  {
   "cell_type": "markdown",
   "metadata": {
    "colab_type": "text",
    "id": "7kIsgAo7o3mf"
   },
   "source": [
    "Remember to make sure your column data types are all correct. Average prices, for example, should be floating point numbers... "
   ]
  },
  {
   "cell_type": "code",
   "execution_count": 16,
   "metadata": {
    "colab": {},
    "colab_type": "code",
    "id": "ZcR4IHbcpOaq"
   },
   "outputs": [
    {
     "data": {
      "text/plain": [
       "London_Borough    object\n",
       "ID                object\n",
       "Month             object\n",
       "Avg_price         object\n",
       "dtype: object"
      ]
     },
     "execution_count": 16,
     "metadata": {},
     "output_type": "execute_result"
    }
   ],
   "source": [
    "long_properties.dtypes"
   ]
  },
  {
   "cell_type": "code",
   "execution_count": 17,
   "metadata": {},
   "outputs": [
    {
     "data": {
      "text/plain": [
       "London_Borough     object\n",
       "ID                 object\n",
       "Month              object\n",
       "Avg_price         float64\n",
       "dtype: object"
      ]
     },
     "execution_count": 17,
     "metadata": {},
     "output_type": "execute_result"
    }
   ],
   "source": [
    "long_properties['Avg_price'] = pd.to_numeric(long_properties['Avg_price'])\n",
    "long_properties.dtypes"
   ]
  },
  {
   "cell_type": "markdown",
   "metadata": {
    "colab_type": "text",
    "id": "knLUXHLypOtw"
   },
   "source": [
    "**2.5. Cleaning the data (part 3)**\n",
    "\n",
    "Do we have an equal number of observations in the ID, Average Price, Month, and London Borough columns? Remember that there are only 32 London Boroughs. How many entries do you have in that column? \n",
    "\n",
    "Check out the contents of the London Borough column, and if you find null values, get rid of them however you see fit. "
   ]
  },
  {
   "cell_type": "code",
   "execution_count": 18,
   "metadata": {
    "colab": {},
    "colab_type": "code",
    "id": "BnvTW5a3p0fC"
   },
   "outputs": [
    {
     "data": {
      "text/plain": [
       "London_Borough    17520\n",
       "ID                16425\n",
       "Month             17520\n",
       "Avg_price         16425\n",
       "dtype: int64"
      ]
     },
     "execution_count": 18,
     "metadata": {},
     "output_type": "execute_result"
    }
   ],
   "source": [
    "long_properties.count()"
   ]
  },
  {
   "cell_type": "code",
   "execution_count": 19,
   "metadata": {},
   "outputs": [
    {
     "data": {
      "text/plain": [
       "array(['City of London', 'Barking & Dagenham', 'Barnet', 'Bexley',\n",
       "       'Brent', 'Bromley', 'Camden', 'Croydon', 'Ealing', 'Enfield',\n",
       "       'Greenwich', 'Hackney', 'Hammersmith & Fulham', 'Haringey',\n",
       "       'Harrow', 'Havering', 'Hillingdon', 'Hounslow', 'Islington',\n",
       "       'Kensington & Chelsea', 'Kingston upon Thames', 'Lambeth',\n",
       "       'Lewisham', 'Merton', 'Newham', 'Redbridge',\n",
       "       'Richmond upon Thames', 'Southwark', 'Sutton', 'Tower Hamlets',\n",
       "       'Waltham Forest', 'Wandsworth', 'Westminster', 'Unnamed: 34',\n",
       "       'Inner London', 'Outer London', 'Unnamed: 37', 'NORTH EAST',\n",
       "       'NORTH WEST', 'YORKS & THE HUMBER', 'EAST MIDLANDS',\n",
       "       'WEST MIDLANDS', 'EAST OF ENGLAND', 'LONDON', 'SOUTH EAST',\n",
       "       'SOUTH WEST', 'Unnamed: 47', 'England'], dtype=object)"
      ]
     },
     "execution_count": 19,
     "metadata": {},
     "output_type": "execute_result"
    }
   ],
   "source": [
    "long_properties['London_Borough'].unique()"
   ]
  },
  {
   "cell_type": "code",
   "execution_count": 20,
   "metadata": {},
   "outputs": [
    {
     "data": {
      "text/html": [
       "<div>\n",
       "<style scoped>\n",
       "    .dataframe tbody tr th:only-of-type {\n",
       "        vertical-align: middle;\n",
       "    }\n",
       "\n",
       "    .dataframe tbody tr th {\n",
       "        vertical-align: top;\n",
       "    }\n",
       "\n",
       "    .dataframe thead th {\n",
       "        text-align: right;\n",
       "    }\n",
       "</style>\n",
       "<table border=\"1\" class=\"dataframe\">\n",
       "  <thead>\n",
       "    <tr style=\"text-align: right;\">\n",
       "      <th></th>\n",
       "      <th>London_Borough</th>\n",
       "      <th>ID</th>\n",
       "      <th>Month</th>\n",
       "      <th>Avg_price</th>\n",
       "    </tr>\n",
       "  </thead>\n",
       "  <tbody>\n",
       "    <tr>\n",
       "      <th>46</th>\n",
       "      <td>Unnamed: 47</td>\n",
       "      <td>NaN</td>\n",
       "      <td>1995-01-01 00:00:00</td>\n",
       "      <td>NaN</td>\n",
       "    </tr>\n",
       "    <tr>\n",
       "      <th>94</th>\n",
       "      <td>Unnamed: 47</td>\n",
       "      <td>NaN</td>\n",
       "      <td>1995-02-01 00:00:00</td>\n",
       "      <td>NaN</td>\n",
       "    </tr>\n",
       "    <tr>\n",
       "      <th>142</th>\n",
       "      <td>Unnamed: 47</td>\n",
       "      <td>NaN</td>\n",
       "      <td>1995-03-01 00:00:00</td>\n",
       "      <td>NaN</td>\n",
       "    </tr>\n",
       "    <tr>\n",
       "      <th>190</th>\n",
       "      <td>Unnamed: 47</td>\n",
       "      <td>NaN</td>\n",
       "      <td>1995-04-01 00:00:00</td>\n",
       "      <td>NaN</td>\n",
       "    </tr>\n",
       "    <tr>\n",
       "      <th>238</th>\n",
       "      <td>Unnamed: 47</td>\n",
       "      <td>NaN</td>\n",
       "      <td>1995-05-01 00:00:00</td>\n",
       "      <td>NaN</td>\n",
       "    </tr>\n",
       "  </tbody>\n",
       "</table>\n",
       "</div>"
      ],
      "text/plain": [
       "    London_Borough   ID                Month  Avg_price\n",
       "46     Unnamed: 47  NaN  1995-01-01 00:00:00        NaN\n",
       "94     Unnamed: 47  NaN  1995-02-01 00:00:00        NaN\n",
       "142    Unnamed: 47  NaN  1995-03-01 00:00:00        NaN\n",
       "190    Unnamed: 47  NaN  1995-04-01 00:00:00        NaN\n",
       "238    Unnamed: 47  NaN  1995-05-01 00:00:00        NaN"
      ]
     },
     "execution_count": 20,
     "metadata": {},
     "output_type": "execute_result"
    }
   ],
   "source": [
    "long_properties[long_properties['London_Borough']=='Unnamed: 47'].head()"
   ]
  },
  {
   "cell_type": "code",
   "execution_count": 21,
   "metadata": {},
   "outputs": [
    {
     "data": {
      "text/html": [
       "<div>\n",
       "<style scoped>\n",
       "    .dataframe tbody tr th:only-of-type {\n",
       "        vertical-align: middle;\n",
       "    }\n",
       "\n",
       "    .dataframe tbody tr th {\n",
       "        vertical-align: top;\n",
       "    }\n",
       "\n",
       "    .dataframe thead th {\n",
       "        text-align: right;\n",
       "    }\n",
       "</style>\n",
       "<table border=\"1\" class=\"dataframe\">\n",
       "  <thead>\n",
       "    <tr style=\"text-align: right;\">\n",
       "      <th></th>\n",
       "      <th>London_Borough</th>\n",
       "      <th>ID</th>\n",
       "      <th>Month</th>\n",
       "      <th>Avg_price</th>\n",
       "    </tr>\n",
       "  </thead>\n",
       "  <tbody>\n",
       "    <tr>\n",
       "      <th>36</th>\n",
       "      <td>Unnamed: 37</td>\n",
       "      <td>NaN</td>\n",
       "      <td>1995-01-01 00:00:00</td>\n",
       "      <td>NaN</td>\n",
       "    </tr>\n",
       "    <tr>\n",
       "      <th>84</th>\n",
       "      <td>Unnamed: 37</td>\n",
       "      <td>NaN</td>\n",
       "      <td>1995-02-01 00:00:00</td>\n",
       "      <td>NaN</td>\n",
       "    </tr>\n",
       "    <tr>\n",
       "      <th>132</th>\n",
       "      <td>Unnamed: 37</td>\n",
       "      <td>NaN</td>\n",
       "      <td>1995-03-01 00:00:00</td>\n",
       "      <td>NaN</td>\n",
       "    </tr>\n",
       "    <tr>\n",
       "      <th>180</th>\n",
       "      <td>Unnamed: 37</td>\n",
       "      <td>NaN</td>\n",
       "      <td>1995-04-01 00:00:00</td>\n",
       "      <td>NaN</td>\n",
       "    </tr>\n",
       "    <tr>\n",
       "      <th>228</th>\n",
       "      <td>Unnamed: 37</td>\n",
       "      <td>NaN</td>\n",
       "      <td>1995-05-01 00:00:00</td>\n",
       "      <td>NaN</td>\n",
       "    </tr>\n",
       "  </tbody>\n",
       "</table>\n",
       "</div>"
      ],
      "text/plain": [
       "    London_Borough   ID                Month  Avg_price\n",
       "36     Unnamed: 37  NaN  1995-01-01 00:00:00        NaN\n",
       "84     Unnamed: 37  NaN  1995-02-01 00:00:00        NaN\n",
       "132    Unnamed: 37  NaN  1995-03-01 00:00:00        NaN\n",
       "180    Unnamed: 37  NaN  1995-04-01 00:00:00        NaN\n",
       "228    Unnamed: 37  NaN  1995-05-01 00:00:00        NaN"
      ]
     },
     "execution_count": 21,
     "metadata": {},
     "output_type": "execute_result"
    }
   ],
   "source": [
    "long_properties[long_properties['London_Borough']=='Unnamed: 37'].head()"
   ]
  },
  {
   "cell_type": "code",
   "execution_count": 22,
   "metadata": {},
   "outputs": [
    {
     "data": {
      "text/html": [
       "<div>\n",
       "<style scoped>\n",
       "    .dataframe tbody tr th:only-of-type {\n",
       "        vertical-align: middle;\n",
       "    }\n",
       "\n",
       "    .dataframe tbody tr th {\n",
       "        vertical-align: top;\n",
       "    }\n",
       "\n",
       "    .dataframe thead th {\n",
       "        text-align: right;\n",
       "    }\n",
       "</style>\n",
       "<table border=\"1\" class=\"dataframe\">\n",
       "  <thead>\n",
       "    <tr style=\"text-align: right;\">\n",
       "      <th></th>\n",
       "      <th>London_Borough</th>\n",
       "      <th>ID</th>\n",
       "      <th>Month</th>\n",
       "      <th>Avg_price</th>\n",
       "    </tr>\n",
       "  </thead>\n",
       "  <tbody>\n",
       "    <tr>\n",
       "      <th>33</th>\n",
       "      <td>Unnamed: 34</td>\n",
       "      <td>NaN</td>\n",
       "      <td>1995-01-01 00:00:00</td>\n",
       "      <td>NaN</td>\n",
       "    </tr>\n",
       "    <tr>\n",
       "      <th>36</th>\n",
       "      <td>Unnamed: 37</td>\n",
       "      <td>NaN</td>\n",
       "      <td>1995-01-01 00:00:00</td>\n",
       "      <td>NaN</td>\n",
       "    </tr>\n",
       "    <tr>\n",
       "      <th>46</th>\n",
       "      <td>Unnamed: 47</td>\n",
       "      <td>NaN</td>\n",
       "      <td>1995-01-01 00:00:00</td>\n",
       "      <td>NaN</td>\n",
       "    </tr>\n",
       "    <tr>\n",
       "      <th>81</th>\n",
       "      <td>Unnamed: 34</td>\n",
       "      <td>NaN</td>\n",
       "      <td>1995-02-01 00:00:00</td>\n",
       "      <td>NaN</td>\n",
       "    </tr>\n",
       "    <tr>\n",
       "      <th>84</th>\n",
       "      <td>Unnamed: 37</td>\n",
       "      <td>NaN</td>\n",
       "      <td>1995-02-01 00:00:00</td>\n",
       "      <td>NaN</td>\n",
       "    </tr>\n",
       "  </tbody>\n",
       "</table>\n",
       "</div>"
      ],
      "text/plain": [
       "   London_Borough   ID                Month  Avg_price\n",
       "33    Unnamed: 34  NaN  1995-01-01 00:00:00        NaN\n",
       "36    Unnamed: 37  NaN  1995-01-01 00:00:00        NaN\n",
       "46    Unnamed: 47  NaN  1995-01-01 00:00:00        NaN\n",
       "81    Unnamed: 34  NaN  1995-02-01 00:00:00        NaN\n",
       "84    Unnamed: 37  NaN  1995-02-01 00:00:00        NaN"
      ]
     },
     "execution_count": 22,
     "metadata": {},
     "output_type": "execute_result"
    }
   ],
   "source": [
    "long_properties[long_properties['ID'].isna()].head()"
   ]
  },
  {
   "cell_type": "code",
   "execution_count": 23,
   "metadata": {},
   "outputs": [
    {
     "data": {
      "text/html": [
       "<div>\n",
       "<style scoped>\n",
       "    .dataframe tbody tr th:only-of-type {\n",
       "        vertical-align: middle;\n",
       "    }\n",
       "\n",
       "    .dataframe tbody tr th {\n",
       "        vertical-align: top;\n",
       "    }\n",
       "\n",
       "    .dataframe thead th {\n",
       "        text-align: right;\n",
       "    }\n",
       "</style>\n",
       "<table border=\"1\" class=\"dataframe\">\n",
       "  <thead>\n",
       "    <tr style=\"text-align: right;\">\n",
       "      <th></th>\n",
       "      <th>London_Borough</th>\n",
       "      <th>ID</th>\n",
       "      <th>Month</th>\n",
       "      <th>Avg_price</th>\n",
       "    </tr>\n",
       "  </thead>\n",
       "  <tbody>\n",
       "    <tr>\n",
       "      <th>0</th>\n",
       "      <td>City of London</td>\n",
       "      <td>E09000001</td>\n",
       "      <td>1995-01-01 00:00:00</td>\n",
       "      <td>90347.0</td>\n",
       "    </tr>\n",
       "    <tr>\n",
       "      <th>1</th>\n",
       "      <td>Barking &amp; Dagenham</td>\n",
       "      <td>E09000002</td>\n",
       "      <td>1995-01-01 00:00:00</td>\n",
       "      <td>51870.0</td>\n",
       "    </tr>\n",
       "    <tr>\n",
       "      <th>2</th>\n",
       "      <td>Barnet</td>\n",
       "      <td>E09000003</td>\n",
       "      <td>1995-01-01 00:00:00</td>\n",
       "      <td>98948.0</td>\n",
       "    </tr>\n",
       "    <tr>\n",
       "      <th>3</th>\n",
       "      <td>Bexley</td>\n",
       "      <td>E09000004</td>\n",
       "      <td>1995-01-01 00:00:00</td>\n",
       "      <td>64956.0</td>\n",
       "    </tr>\n",
       "    <tr>\n",
       "      <th>4</th>\n",
       "      <td>Brent</td>\n",
       "      <td>E09000005</td>\n",
       "      <td>1995-01-01 00:00:00</td>\n",
       "      <td>76880.0</td>\n",
       "    </tr>\n",
       "  </tbody>\n",
       "</table>\n",
       "</div>"
      ],
      "text/plain": [
       "       London_Borough         ID                Month  Avg_price\n",
       "0      City of London  E09000001  1995-01-01 00:00:00    90347.0\n",
       "1  Barking & Dagenham  E09000002  1995-01-01 00:00:00    51870.0\n",
       "2              Barnet  E09000003  1995-01-01 00:00:00    98948.0\n",
       "3              Bexley  E09000004  1995-01-01 00:00:00    64956.0\n",
       "4               Brent  E09000005  1995-01-01 00:00:00    76880.0"
      ]
     },
     "execution_count": 23,
     "metadata": {},
     "output_type": "execute_result"
    }
   ],
   "source": [
    "clean_df1= long_properties[long_properties['ID'].notna()]\n",
    "clean_df1.head()"
   ]
  },
  {
   "cell_type": "code",
   "execution_count": 24,
   "metadata": {},
   "outputs": [
    {
     "data": {
      "text/html": [
       "<div>\n",
       "<style scoped>\n",
       "    .dataframe tbody tr th:only-of-type {\n",
       "        vertical-align: middle;\n",
       "    }\n",
       "\n",
       "    .dataframe tbody tr th {\n",
       "        vertical-align: top;\n",
       "    }\n",
       "\n",
       "    .dataframe thead th {\n",
       "        text-align: right;\n",
       "    }\n",
       "</style>\n",
       "<table border=\"1\" class=\"dataframe\">\n",
       "  <thead>\n",
       "    <tr style=\"text-align: right;\">\n",
       "      <th></th>\n",
       "      <th>London_Borough</th>\n",
       "      <th>ID</th>\n",
       "      <th>Month</th>\n",
       "      <th>Avg_price</th>\n",
       "    </tr>\n",
       "  </thead>\n",
       "  <tbody>\n",
       "    <tr>\n",
       "      <th>0</th>\n",
       "      <td>City of London</td>\n",
       "      <td>E09000001</td>\n",
       "      <td>1995-01-01 00:00:00</td>\n",
       "      <td>90347.0</td>\n",
       "    </tr>\n",
       "    <tr>\n",
       "      <th>1</th>\n",
       "      <td>Barking &amp; Dagenham</td>\n",
       "      <td>E09000002</td>\n",
       "      <td>1995-01-01 00:00:00</td>\n",
       "      <td>51870.0</td>\n",
       "    </tr>\n",
       "    <tr>\n",
       "      <th>2</th>\n",
       "      <td>Barnet</td>\n",
       "      <td>E09000003</td>\n",
       "      <td>1995-01-01 00:00:00</td>\n",
       "      <td>98948.0</td>\n",
       "    </tr>\n",
       "    <tr>\n",
       "      <th>3</th>\n",
       "      <td>Bexley</td>\n",
       "      <td>E09000004</td>\n",
       "      <td>1995-01-01 00:00:00</td>\n",
       "      <td>64956.0</td>\n",
       "    </tr>\n",
       "    <tr>\n",
       "      <th>4</th>\n",
       "      <td>Brent</td>\n",
       "      <td>E09000005</td>\n",
       "      <td>1995-01-01 00:00:00</td>\n",
       "      <td>76880.0</td>\n",
       "    </tr>\n",
       "  </tbody>\n",
       "</table>\n",
       "</div>"
      ],
      "text/plain": [
       "       London_Borough         ID                Month  Avg_price\n",
       "0      City of London  E09000001  1995-01-01 00:00:00    90347.0\n",
       "1  Barking & Dagenham  E09000002  1995-01-01 00:00:00    51870.0\n",
       "2              Barnet  E09000003  1995-01-01 00:00:00    98948.0\n",
       "3              Bexley  E09000004  1995-01-01 00:00:00    64956.0\n",
       "4               Brent  E09000005  1995-01-01 00:00:00    76880.0"
      ]
     },
     "execution_count": 24,
     "metadata": {},
     "output_type": "execute_result"
    }
   ],
   "source": [
    "clean_df2 = long_properties.dropna()\n",
    "clean_df2.head()"
   ]
  },
  {
   "cell_type": "code",
   "execution_count": 25,
   "metadata": {},
   "outputs": [
    {
     "name": "stdout",
     "output_type": "stream",
     "text": [
      "(17520, 4)\n",
      "(16425, 4)\n",
      "(16425, 4)\n"
     ]
    }
   ],
   "source": [
    "print(long_properties.shape)\n",
    "print(clean_df1.shape)\n",
    "print(clean_df2.shape)"
   ]
  },
  {
   "cell_type": "code",
   "execution_count": 26,
   "metadata": {},
   "outputs": [
    {
     "data": {
      "text/plain": [
       "array(['City of London', 'Barking & Dagenham', 'Barnet', 'Bexley',\n",
       "       'Brent', 'Bromley', 'Camden', 'Croydon', 'Ealing', 'Enfield',\n",
       "       'Greenwich', 'Hackney', 'Hammersmith & Fulham', 'Haringey',\n",
       "       'Harrow', 'Havering', 'Hillingdon', 'Hounslow', 'Islington',\n",
       "       'Kensington & Chelsea', 'Kingston upon Thames', 'Lambeth',\n",
       "       'Lewisham', 'Merton', 'Newham', 'Redbridge',\n",
       "       'Richmond upon Thames', 'Southwark', 'Sutton', 'Tower Hamlets',\n",
       "       'Waltham Forest', 'Wandsworth', 'Westminster', 'Inner London',\n",
       "       'Outer London', 'NORTH EAST', 'NORTH WEST', 'YORKS & THE HUMBER',\n",
       "       'EAST MIDLANDS', 'WEST MIDLANDS', 'EAST OF ENGLAND', 'LONDON',\n",
       "       'SOUTH EAST', 'SOUTH WEST', 'England'], dtype=object)"
      ]
     },
     "execution_count": 26,
     "metadata": {},
     "output_type": "execute_result"
    }
   ],
   "source": [
    "clean_df1['London_Borough'].unique()"
   ]
  },
  {
   "cell_type": "code",
   "execution_count": 27,
   "metadata": {},
   "outputs": [],
   "source": [
    "nonBoroughs = ['Inner London', 'Outer London', \n",
    "               'NORTH EAST', 'NORTH WEST', 'YORKS & THE HUMBER', \n",
    "               'EAST MIDLANDS', 'WEST MIDLANDS',\n",
    "              'EAST OF ENGLAND', 'LONDON', 'SOUTH EAST', \n",
    "              'SOUTH WEST', 'England']"
   ]
  },
  {
   "cell_type": "code",
   "execution_count": 28,
   "metadata": {},
   "outputs": [
    {
     "data": {
      "text/html": [
       "<div>\n",
       "<style scoped>\n",
       "    .dataframe tbody tr th:only-of-type {\n",
       "        vertical-align: middle;\n",
       "    }\n",
       "\n",
       "    .dataframe tbody tr th {\n",
       "        vertical-align: top;\n",
       "    }\n",
       "\n",
       "    .dataframe thead th {\n",
       "        text-align: right;\n",
       "    }\n",
       "</style>\n",
       "<table border=\"1\" class=\"dataframe\">\n",
       "  <thead>\n",
       "    <tr style=\"text-align: right;\">\n",
       "      <th></th>\n",
       "      <th>London_Borough</th>\n",
       "      <th>ID</th>\n",
       "      <th>Month</th>\n",
       "      <th>Avg_price</th>\n",
       "    </tr>\n",
       "  </thead>\n",
       "  <tbody>\n",
       "    <tr>\n",
       "      <th>34</th>\n",
       "      <td>Inner London</td>\n",
       "      <td>E13000001</td>\n",
       "      <td>1995-01-01 00:00:00</td>\n",
       "      <td>85892.0</td>\n",
       "    </tr>\n",
       "    <tr>\n",
       "      <th>35</th>\n",
       "      <td>Outer London</td>\n",
       "      <td>E13000002</td>\n",
       "      <td>1995-01-01 00:00:00</td>\n",
       "      <td>76196.0</td>\n",
       "    </tr>\n",
       "    <tr>\n",
       "      <th>37</th>\n",
       "      <td>NORTH EAST</td>\n",
       "      <td>E12000001</td>\n",
       "      <td>1995-01-01 00:00:00</td>\n",
       "      <td>39809.0</td>\n",
       "    </tr>\n",
       "    <tr>\n",
       "      <th>38</th>\n",
       "      <td>NORTH WEST</td>\n",
       "      <td>E12000002</td>\n",
       "      <td>1995-01-01 00:00:00</td>\n",
       "      <td>40907.0</td>\n",
       "    </tr>\n",
       "    <tr>\n",
       "      <th>39</th>\n",
       "      <td>YORKS &amp; THE HUMBER</td>\n",
       "      <td>E12000003</td>\n",
       "      <td>1995-01-01 00:00:00</td>\n",
       "      <td>42171.0</td>\n",
       "    </tr>\n",
       "    <tr>\n",
       "      <th>...</th>\n",
       "      <td>...</td>\n",
       "      <td>...</td>\n",
       "      <td>...</td>\n",
       "      <td>...</td>\n",
       "    </tr>\n",
       "    <tr>\n",
       "      <th>17514</th>\n",
       "      <td>EAST OF ENGLAND</td>\n",
       "      <td>E12000006</td>\n",
       "      <td>2025-05-01 00:00:00</td>\n",
       "      <td>339747.0</td>\n",
       "    </tr>\n",
       "    <tr>\n",
       "      <th>17515</th>\n",
       "      <td>LONDON</td>\n",
       "      <td>E12000007</td>\n",
       "      <td>2025-05-01 00:00:00</td>\n",
       "      <td>565637.0</td>\n",
       "    </tr>\n",
       "    <tr>\n",
       "      <th>17516</th>\n",
       "      <td>SOUTH EAST</td>\n",
       "      <td>E12000008</td>\n",
       "      <td>2025-05-01 00:00:00</td>\n",
       "      <td>380650.0</td>\n",
       "    </tr>\n",
       "    <tr>\n",
       "      <th>17517</th>\n",
       "      <td>SOUTH WEST</td>\n",
       "      <td>E12000009</td>\n",
       "      <td>2025-05-01 00:00:00</td>\n",
       "      <td>304237.0</td>\n",
       "    </tr>\n",
       "    <tr>\n",
       "      <th>17519</th>\n",
       "      <td>England</td>\n",
       "      <td>E92000001</td>\n",
       "      <td>2025-05-01 00:00:00</td>\n",
       "      <td>290395.0</td>\n",
       "    </tr>\n",
       "  </tbody>\n",
       "</table>\n",
       "<p>4380 rows × 4 columns</p>\n",
       "</div>"
      ],
      "text/plain": [
       "           London_Borough         ID                Month  Avg_price\n",
       "34           Inner London  E13000001  1995-01-01 00:00:00    85892.0\n",
       "35           Outer London  E13000002  1995-01-01 00:00:00    76196.0\n",
       "37             NORTH EAST  E12000001  1995-01-01 00:00:00    39809.0\n",
       "38             NORTH WEST  E12000002  1995-01-01 00:00:00    40907.0\n",
       "39     YORKS & THE HUMBER  E12000003  1995-01-01 00:00:00    42171.0\n",
       "...                   ...        ...                  ...        ...\n",
       "17514     EAST OF ENGLAND  E12000006  2025-05-01 00:00:00   339747.0\n",
       "17515              LONDON  E12000007  2025-05-01 00:00:00   565637.0\n",
       "17516          SOUTH EAST  E12000008  2025-05-01 00:00:00   380650.0\n",
       "17517          SOUTH WEST  E12000009  2025-05-01 00:00:00   304237.0\n",
       "17519             England  E92000001  2025-05-01 00:00:00   290395.0\n",
       "\n",
       "[4380 rows x 4 columns]"
      ]
     },
     "execution_count": 28,
     "metadata": {},
     "output_type": "execute_result"
    }
   ],
   "source": [
    "clean_df1[clean_df1['London_Borough'].isin(nonBoroughs)]"
   ]
  },
  {
   "cell_type": "code",
   "execution_count": 29,
   "metadata": {},
   "outputs": [],
   "source": [
    "clean_df1 = clean_df1[~clean_df1['London_Borough'].isin(nonBoroughs)]"
   ]
  },
  {
   "cell_type": "code",
   "execution_count": 30,
   "metadata": {},
   "outputs": [
    {
     "data": {
      "text/html": [
       "<div>\n",
       "<style scoped>\n",
       "    .dataframe tbody tr th:only-of-type {\n",
       "        vertical-align: middle;\n",
       "    }\n",
       "\n",
       "    .dataframe tbody tr th {\n",
       "        vertical-align: top;\n",
       "    }\n",
       "\n",
       "    .dataframe thead th {\n",
       "        text-align: right;\n",
       "    }\n",
       "</style>\n",
       "<table border=\"1\" class=\"dataframe\">\n",
       "  <thead>\n",
       "    <tr style=\"text-align: right;\">\n",
       "      <th></th>\n",
       "      <th>London_Borough</th>\n",
       "      <th>ID</th>\n",
       "      <th>Month</th>\n",
       "      <th>Avg_price</th>\n",
       "    </tr>\n",
       "  </thead>\n",
       "  <tbody>\n",
       "    <tr>\n",
       "      <th>0</th>\n",
       "      <td>City of London</td>\n",
       "      <td>E09000001</td>\n",
       "      <td>1995-01-01 00:00:00</td>\n",
       "      <td>90347.0</td>\n",
       "    </tr>\n",
       "    <tr>\n",
       "      <th>1</th>\n",
       "      <td>Barking &amp; Dagenham</td>\n",
       "      <td>E09000002</td>\n",
       "      <td>1995-01-01 00:00:00</td>\n",
       "      <td>51870.0</td>\n",
       "    </tr>\n",
       "    <tr>\n",
       "      <th>2</th>\n",
       "      <td>Barnet</td>\n",
       "      <td>E09000003</td>\n",
       "      <td>1995-01-01 00:00:00</td>\n",
       "      <td>98948.0</td>\n",
       "    </tr>\n",
       "    <tr>\n",
       "      <th>3</th>\n",
       "      <td>Bexley</td>\n",
       "      <td>E09000004</td>\n",
       "      <td>1995-01-01 00:00:00</td>\n",
       "      <td>64956.0</td>\n",
       "    </tr>\n",
       "    <tr>\n",
       "      <th>4</th>\n",
       "      <td>Brent</td>\n",
       "      <td>E09000005</td>\n",
       "      <td>1995-01-01 00:00:00</td>\n",
       "      <td>76880.0</td>\n",
       "    </tr>\n",
       "  </tbody>\n",
       "</table>\n",
       "</div>"
      ],
      "text/plain": [
       "       London_Borough         ID                Month  Avg_price\n",
       "0      City of London  E09000001  1995-01-01 00:00:00    90347.0\n",
       "1  Barking & Dagenham  E09000002  1995-01-01 00:00:00    51870.0\n",
       "2              Barnet  E09000003  1995-01-01 00:00:00    98948.0\n",
       "3              Bexley  E09000004  1995-01-01 00:00:00    64956.0\n",
       "4               Brent  E09000005  1995-01-01 00:00:00    76880.0"
      ]
     },
     "execution_count": 30,
     "metadata": {},
     "output_type": "execute_result"
    }
   ],
   "source": [
    "df = clean_df1\n",
    "df.head()"
   ]
  },
  {
   "cell_type": "markdown",
   "metadata": {
    "colab_type": "text",
    "id": "PGEx6mJsp6dG"
   },
   "source": [
    "**2.6. Visualizing the data**\n",
    "\n",
    "To visualize the data, why not subset on a particular London Borough? Maybe do a line plot of Month against Average Price?"
   ]
  },
  {
   "cell_type": "code",
   "execution_count": 31,
   "metadata": {
    "colab": {},
    "colab_type": "code",
    "id": "nAg5pT9cqHAR"
   },
   "outputs": [
    {
     "name": "stderr",
     "output_type": "stream",
     "text": [
      "/Users/susan/miniconda3/lib/python3.11/site-packages/pandas/core/indexes/base.py:7588: FutureWarning: Dtype inference on a pandas object (Series, Index, ExtensionArray) is deprecated. The Index constructor will keep the original dtype in the future. Call `infer_objects` on the result to get the old behavior.\n",
      "  return Index(sequences[0], name=names)\n"
     ]
    },
    {
     "data": {
      "text/plain": [
       "<Axes: xlabel='Month', ylabel='Price'>"
      ]
     },
     "execution_count": 31,
     "metadata": {},
     "output_type": "execute_result"
    },
    {
     "data": {
      "image/png": "[encoded data removed]",
      "text/plain": [
       "<Figure size 640x480 with 1 Axes>"
      ]
     },
     "metadata": {},
     "output_type": "display_data"
    }
   ],
   "source": [
    "df[df.London_Borough == 'Sutton'].plot(kind='line',x= 'Month', y='Avg_price',ylabel='Price')"
   ]
  },
  {
   "cell_type": "markdown",
   "metadata": {
    "colab_type": "text",
    "id": "aWTPqSJeqHnC"
   },
   "source": [
    "To limit the number of data points you have, you might want to extract the year from every month value your *Month* column. \n",
    "\n",
    "To this end, you *could* apply a ***lambda function***. Your logic could work as follows:\n",
    "1. look through the `Month` column\n",
    "2. extract the year from each individual value in that column \n",
    "3. store that corresponding year as separate column. \n",
    "\n",
    "Whether you go ahead with this is up to you. Just so long as you answer our initial brief: which boroughs of London have seen the greatest house price increase, on average, over the past two decades? "
   ]
  },
  {
   "cell_type": "code",
   "execution_count": 32,
   "metadata": {},
   "outputs": [
    {
     "data": {
      "text/html": [
       "<div>\n",
       "<style scoped>\n",
       "    .dataframe tbody tr th:only-of-type {\n",
       "        vertical-align: middle;\n",
       "    }\n",
       "\n",
       "    .dataframe tbody tr th {\n",
       "        vertical-align: top;\n",
       "    }\n",
       "\n",
       "    .dataframe thead th {\n",
       "        text-align: right;\n",
       "    }\n",
       "</style>\n",
       "<table border=\"1\" class=\"dataframe\">\n",
       "  <thead>\n",
       "    <tr style=\"text-align: right;\">\n",
       "      <th></th>\n",
       "      <th>London_Borough</th>\n",
       "      <th>ID</th>\n",
       "      <th>Month</th>\n",
       "      <th>Avg_price</th>\n",
       "      <th>Year</th>\n",
       "    </tr>\n",
       "  </thead>\n",
       "  <tbody>\n",
       "    <tr>\n",
       "      <th>2803</th>\n",
       "      <td>Kensington &amp; Chelsea</td>\n",
       "      <td>E09000020</td>\n",
       "      <td>1999-11-01 00:00:00</td>\n",
       "      <td>381533.0</td>\n",
       "      <td>1999</td>\n",
       "    </tr>\n",
       "    <tr>\n",
       "      <th>9323</th>\n",
       "      <td>Hackney</td>\n",
       "      <td>E09000012</td>\n",
       "      <td>2011-03-01 00:00:00</td>\n",
       "      <td>304410.0</td>\n",
       "      <td>2011</td>\n",
       "    </tr>\n",
       "    <tr>\n",
       "      <th>10198</th>\n",
       "      <td>Lewisham</td>\n",
       "      <td>E09000023</td>\n",
       "      <td>2012-09-01 00:00:00</td>\n",
       "      <td>263807.0</td>\n",
       "      <td>2012</td>\n",
       "    </tr>\n",
       "    <tr>\n",
       "      <th>3480</th>\n",
       "      <td>Newham</td>\n",
       "      <td>E09000025</td>\n",
       "      <td>2001-01-01 00:00:00</td>\n",
       "      <td>106131.0</td>\n",
       "      <td>2001</td>\n",
       "    </tr>\n",
       "    <tr>\n",
       "      <th>12346</th>\n",
       "      <td>Greenwich</td>\n",
       "      <td>E09000011</td>\n",
       "      <td>2016-06-01 00:00:00</td>\n",
       "      <td>402068.0</td>\n",
       "      <td>2016</td>\n",
       "    </tr>\n",
       "  </tbody>\n",
       "</table>\n",
       "</div>"
      ],
      "text/plain": [
       "             London_Borough         ID                Month  Avg_price  Year\n",
       "2803   Kensington & Chelsea  E09000020  1999-11-01 00:00:00   381533.0  1999\n",
       "9323                Hackney  E09000012  2011-03-01 00:00:00   304410.0  2011\n",
       "10198              Lewisham  E09000023  2012-09-01 00:00:00   263807.0  2012\n",
       "3480                 Newham  E09000025  2001-01-01 00:00:00   106131.0  2001\n",
       "12346             Greenwich  E09000011  2016-06-01 00:00:00   402068.0  2016"
      ]
     },
     "execution_count": 32,
     "metadata": {},
     "output_type": "execute_result"
    }
   ],
   "source": [
    "df['Year'] = df['Month'].apply(lambda t: t.year)\n",
    "df.sample(5)"
   ]
  },
  {
   "cell_type": "code",
   "execution_count": 33,
   "metadata": {
    "colab": {},
    "colab_type": "code",
    "id": "e0DF92cyqnu8"
   },
   "outputs": [
    {
     "data": {
      "text/plain": [
       "London_Borough      Year\n",
       "Barking & Dagenham  1995    53265.416667\n",
       "                    1996    53162.666667\n",
       "                    1997    57537.583333\n",
       "                    1998    61969.666667\n",
       "                    1999    67145.333333\n",
       "Name: Avg_price, dtype: float64"
      ]
     },
     "execution_count": 33,
     "metadata": {},
     "output_type": "execute_result"
    }
   ],
   "source": [
    "df_year = df.groupby(['London_Borough','Year'])['Avg_price'].mean()\n",
    "df_year.head()"
   ]
  },
  {
   "cell_type": "code",
   "execution_count": 34,
   "metadata": {},
   "outputs": [
    {
     "data": {
      "text/html": [
       "<div>\n",
       "<style scoped>\n",
       "    .dataframe tbody tr th:only-of-type {\n",
       "        vertical-align: middle;\n",
       "    }\n",
       "\n",
       "    .dataframe tbody tr th {\n",
       "        vertical-align: top;\n",
       "    }\n",
       "\n",
       "    .dataframe thead th {\n",
       "        text-align: right;\n",
       "    }\n",
       "</style>\n",
       "<table border=\"1\" class=\"dataframe\">\n",
       "  <thead>\n",
       "    <tr style=\"text-align: right;\">\n",
       "      <th></th>\n",
       "      <th>London_Borough</th>\n",
       "      <th>Year</th>\n",
       "      <th>Avg_price</th>\n",
       "    </tr>\n",
       "  </thead>\n",
       "  <tbody>\n",
       "    <tr>\n",
       "      <th>0</th>\n",
       "      <td>Barking &amp; Dagenham</td>\n",
       "      <td>1995</td>\n",
       "      <td>53265.416667</td>\n",
       "    </tr>\n",
       "    <tr>\n",
       "      <th>1</th>\n",
       "      <td>Barking &amp; Dagenham</td>\n",
       "      <td>1996</td>\n",
       "      <td>53162.666667</td>\n",
       "    </tr>\n",
       "    <tr>\n",
       "      <th>2</th>\n",
       "      <td>Barking &amp; Dagenham</td>\n",
       "      <td>1997</td>\n",
       "      <td>57537.583333</td>\n",
       "    </tr>\n",
       "    <tr>\n",
       "      <th>3</th>\n",
       "      <td>Barking &amp; Dagenham</td>\n",
       "      <td>1998</td>\n",
       "      <td>61969.666667</td>\n",
       "    </tr>\n",
       "    <tr>\n",
       "      <th>4</th>\n",
       "      <td>Barking &amp; Dagenham</td>\n",
       "      <td>1999</td>\n",
       "      <td>67145.333333</td>\n",
       "    </tr>\n",
       "  </tbody>\n",
       "</table>\n",
       "</div>"
      ],
      "text/plain": [
       "       London_Borough  Year     Avg_price\n",
       "0  Barking & Dagenham  1995  53265.416667\n",
       "1  Barking & Dagenham  1996  53162.666667\n",
       "2  Barking & Dagenham  1997  57537.583333\n",
       "3  Barking & Dagenham  1998  61969.666667\n",
       "4  Barking & Dagenham  1999  67145.333333"
      ]
     },
     "execution_count": 34,
     "metadata": {},
     "output_type": "execute_result"
    }
   ],
   "source": [
    "df_year = df_year.reset_index()\n",
    "df_year.head()"
   ]
  },
  {
   "cell_type": "markdown",
   "metadata": {
    "colab_type": "text",
    "id": "2knuTxAEqoJ4"
   },
   "source": [
    "**3. Modeling**\n",
    "\n",
    "Consider creating a function that will calculate a ratio of house prices, comparing the price of a house in 2018 to the price in 1998.\n",
    "\n",
    "Consider calling this function create_price_ratio.\n",
    "\n",
    "You'd want this function to:\n",
    "1. Take a filter of dfg, specifically where this filter constrains the London_Borough, as an argument. For example, one admissible argument should be: dfg[dfg['London_Borough']=='Camden'].\n",
    "2. Get the Average Price for that Borough, for the years 1998 and 2018.\n",
    "4. Calculate the ratio of the Average Price for 1998 divided by the Average Price for 2018.\n",
    "5. Return that ratio.\n",
    "\n",
    "Once you've written this function, you ultimately want to use it to iterate through all the unique London_Boroughs and work out the ratio capturing the difference of house prices between 1998 and 2018.\n",
    "\n",
    "Bear in mind: you don't have to write a function like this if you don't want to. If you can solve the brief otherwise, then great! \n",
    "\n",
    "***Hint***: This section should test the skills you acquired in:\n",
    "- Python Data Science Toolbox - Part One, all modules"
   ]
  },
  {
   "cell_type": "code",
   "execution_count": 35,
   "metadata": {
    "colab": {},
    "colab_type": "code",
    "id": "cKTyr437UgDa"
   },
   "outputs": [
    {
     "name": "stderr",
     "output_type": "stream",
     "text": [
      "/var/folders/tt/9k2yhvsn2b155b995sj12d3m0000gn/T/ipykernel_51403/1409550937.py:2: FutureWarning: Calling float on a single element Series is deprecated and will raise a TypeError in the future. Use float(ser.iloc[0]) instead\n",
      "  y1998 = float(df_b[df_b['Year']==1998]['Avg_price'])\n",
      "/var/folders/tt/9k2yhvsn2b155b995sj12d3m0000gn/T/ipykernel_51403/1409550937.py:3: FutureWarning: Calling float on a single element Series is deprecated and will raise a TypeError in the future. Use float(ser.iloc[0]) instead\n",
      "  y2018 = float(df_b[df_b['Year']==2018]['Avg_price'])\n"
     ]
    },
    {
     "data": {
      "text/plain": [
       "[0.18840695888908257]"
      ]
     },
     "execution_count": 35,
     "metadata": {},
     "output_type": "execute_result"
    }
   ],
   "source": [
    "def create_price_ratio(df_b):\n",
    "    y1998 = float(df_b[df_b['Year']==1998]['Avg_price'])\n",
    "    y2018 = float(df_b[df_b['Year']==2018]['Avg_price'])\n",
    "    ratio = [y1998/y2018]\n",
    "    return ratio\n",
    "\n",
    "ratio_newham = create_price_ratio(df_year[df_year.London_Borough =='Newham'])\n",
    "ratio_newham\n",
    "    "
   ]
  },
  {
   "cell_type": "code",
   "execution_count": 36,
   "metadata": {},
   "outputs": [
    {
     "name": "stdout",
     "output_type": "stream",
     "text": [
      "{'Barking & Dagenham': [0.20423085648121447], 'Barnet': [0.22947455739173486], 'Bexley': [0.23530347343041924], 'Brent': [0.2042709511130373], 'Bromley': [0.24420951547316044], 'Camden': [0.20267356278891333], 'City of London': [0.1885858628515882], 'Croydon': [0.2380391114911231], 'Ealing': [0.23192306400619503], 'Enfield': [0.23459076890446723], 'Greenwich': [0.20992657248589605], 'Hackney': [0.16133368258111871], 'Hammersmith & Fulham': [0.24160770686044686], 'Haringey': [0.1947589860903206], 'Harrow': [0.24635696204346105], 'Havering': [0.2311674741774039], 'Hillingdon': [0.23807905579139363], 'Hounslow': [0.2514409504391468], 'Islington': [0.20653152795079477], 'Kensington & Chelsea': [0.19676620114162713], 'Kingston upon Thames': [0.23418985104353574], 'Lambeth': [0.20168618083100256], 'Lewisham': [0.1835560780718766], 'Merton': [0.21074127656145353], 'Newham': [0.18840695888908257], 'Redbridge': [0.22370449143904522], 'Richmond upon Thames': [0.24982768681212475], 'Southwark': [0.18127861838228881], 'Sutton': [0.24278455335350252], 'Tower Hamlets': [0.21613517706081295], 'Waltham Forest': [0.17137583603293005], 'Wandsworth': [0.21019117972705792], 'Westminster': [0.18682052241831665]}\n"
     ]
    },
    {
     "name": "stderr",
     "output_type": "stream",
     "text": [
      "/var/folders/tt/9k2yhvsn2b155b995sj12d3m0000gn/T/ipykernel_51403/1409550937.py:2: FutureWarning: Calling float on a single element Series is deprecated and will raise a TypeError in the future. Use float(ser.iloc[0]) instead\n",
      "  y1998 = float(df_b[df_b['Year']==1998]['Avg_price'])\n",
      "/var/folders/tt/9k2yhvsn2b155b995sj12d3m0000gn/T/ipykernel_51403/1409550937.py:3: FutureWarning: Calling float on a single element Series is deprecated and will raise a TypeError in the future. Use float(ser.iloc[0]) instead\n",
      "  y2018 = float(df_b[df_b['Year']==2018]['Avg_price'])\n"
     ]
    }
   ],
   "source": [
    "all_boroughs={}\n",
    "\n",
    "for b in df_year.London_Borough.unique():\n",
    "    df_bor = df_year[df_year.London_Borough ==b]\n",
    "    all_boroughs[b] = create_price_ratio(df_bor)\n",
    "\n",
    "print(all_boroughs)"
   ]
  },
  {
   "cell_type": "code",
   "execution_count": 37,
   "metadata": {},
   "outputs": [
    {
     "data": {
      "text/html": [
       "<div>\n",
       "<style scoped>\n",
       "    .dataframe tbody tr th:only-of-type {\n",
       "        vertical-align: middle;\n",
       "    }\n",
       "\n",
       "    .dataframe tbody tr th {\n",
       "        vertical-align: top;\n",
       "    }\n",
       "\n",
       "    .dataframe thead th {\n",
       "        text-align: right;\n",
       "    }\n",
       "</style>\n",
       "<table border=\"1\" class=\"dataframe\">\n",
       "  <thead>\n",
       "    <tr style=\"text-align: right;\">\n",
       "      <th></th>\n",
       "      <th>Barking &amp; Dagenham</th>\n",
       "      <th>Barnet</th>\n",
       "      <th>Bexley</th>\n",
       "      <th>Brent</th>\n",
       "      <th>Bromley</th>\n",
       "      <th>Camden</th>\n",
       "      <th>City of London</th>\n",
       "      <th>Croydon</th>\n",
       "      <th>Ealing</th>\n",
       "      <th>Enfield</th>\n",
       "      <th>...</th>\n",
       "      <th>Merton</th>\n",
       "      <th>Newham</th>\n",
       "      <th>Redbridge</th>\n",
       "      <th>Richmond upon Thames</th>\n",
       "      <th>Southwark</th>\n",
       "      <th>Sutton</th>\n",
       "      <th>Tower Hamlets</th>\n",
       "      <th>Waltham Forest</th>\n",
       "      <th>Wandsworth</th>\n",
       "      <th>Westminster</th>\n",
       "    </tr>\n",
       "  </thead>\n",
       "  <tbody>\n",
       "    <tr>\n",
       "      <th>0</th>\n",
       "      <td>0.204231</td>\n",
       "      <td>0.229475</td>\n",
       "      <td>0.235303</td>\n",
       "      <td>0.204271</td>\n",
       "      <td>0.24421</td>\n",
       "      <td>0.202674</td>\n",
       "      <td>0.188586</td>\n",
       "      <td>0.238039</td>\n",
       "      <td>0.231923</td>\n",
       "      <td>0.234591</td>\n",
       "      <td>...</td>\n",
       "      <td>0.210741</td>\n",
       "      <td>0.188407</td>\n",
       "      <td>0.223704</td>\n",
       "      <td>0.249828</td>\n",
       "      <td>0.181279</td>\n",
       "      <td>0.242785</td>\n",
       "      <td>0.216135</td>\n",
       "      <td>0.171376</td>\n",
       "      <td>0.210191</td>\n",
       "      <td>0.186821</td>\n",
       "    </tr>\n",
       "  </tbody>\n",
       "</table>\n",
       "<p>1 rows × 33 columns</p>\n",
       "</div>"
      ],
      "text/plain": [
       "   Barking & Dagenham    Barnet    Bexley     Brent  Bromley    Camden  \\\n",
       "0            0.204231  0.229475  0.235303  0.204271  0.24421  0.202674   \n",
       "\n",
       "   City of London   Croydon    Ealing   Enfield  ...    Merton    Newham  \\\n",
       "0        0.188586  0.238039  0.231923  0.234591  ...  0.210741  0.188407   \n",
       "\n",
       "   Redbridge  Richmond upon Thames  Southwark    Sutton  Tower Hamlets  \\\n",
       "0   0.223704              0.249828   0.181279  0.242785       0.216135   \n",
       "\n",
       "   Waltham Forest  Wandsworth  Westminster  \n",
       "0        0.171376    0.210191     0.186821  \n",
       "\n",
       "[1 rows x 33 columns]"
      ]
     },
     "execution_count": 37,
     "metadata": {},
     "output_type": "execute_result"
    }
   ],
   "source": [
    "df_ratios = pd.DataFrame(all_boroughs)\n",
    "df_ratios.head()"
   ]
  },
  {
   "cell_type": "code",
   "execution_count": 38,
   "metadata": {},
   "outputs": [
    {
     "data": {
      "text/html": [
       "<div>\n",
       "<style scoped>\n",
       "    .dataframe tbody tr th:only-of-type {\n",
       "        vertical-align: middle;\n",
       "    }\n",
       "\n",
       "    .dataframe tbody tr th {\n",
       "        vertical-align: top;\n",
       "    }\n",
       "\n",
       "    .dataframe thead th {\n",
       "        text-align: right;\n",
       "    }\n",
       "</style>\n",
       "<table border=\"1\" class=\"dataframe\">\n",
       "  <thead>\n",
       "    <tr style=\"text-align: right;\">\n",
       "      <th></th>\n",
       "      <th>index</th>\n",
       "      <th>0</th>\n",
       "    </tr>\n",
       "  </thead>\n",
       "  <tbody>\n",
       "    <tr>\n",
       "      <th>0</th>\n",
       "      <td>Barking &amp; Dagenham</td>\n",
       "      <td>0.204231</td>\n",
       "    </tr>\n",
       "    <tr>\n",
       "      <th>1</th>\n",
       "      <td>Barnet</td>\n",
       "      <td>0.229475</td>\n",
       "    </tr>\n",
       "    <tr>\n",
       "      <th>2</th>\n",
       "      <td>Bexley</td>\n",
       "      <td>0.235303</td>\n",
       "    </tr>\n",
       "    <tr>\n",
       "      <th>3</th>\n",
       "      <td>Brent</td>\n",
       "      <td>0.204271</td>\n",
       "    </tr>\n",
       "    <tr>\n",
       "      <th>4</th>\n",
       "      <td>Bromley</td>\n",
       "      <td>0.244210</td>\n",
       "    </tr>\n",
       "  </tbody>\n",
       "</table>\n",
       "</div>"
      ],
      "text/plain": [
       "                index         0\n",
       "0  Barking & Dagenham  0.204231\n",
       "1              Barnet  0.229475\n",
       "2              Bexley  0.235303\n",
       "3               Brent  0.204271\n",
       "4             Bromley  0.244210"
      ]
     },
     "execution_count": 38,
     "metadata": {},
     "output_type": "execute_result"
    }
   ],
   "source": [
    "df_ratios = df_ratios.transpose().reset_index()\n",
    "df_ratios.head()"
   ]
  },
  {
   "cell_type": "code",
   "execution_count": 39,
   "metadata": {},
   "outputs": [
    {
     "data": {
      "text/html": [
       "<div>\n",
       "<style scoped>\n",
       "    .dataframe tbody tr th:only-of-type {\n",
       "        vertical-align: middle;\n",
       "    }\n",
       "\n",
       "    .dataframe tbody tr th {\n",
       "        vertical-align: top;\n",
       "    }\n",
       "\n",
       "    .dataframe thead th {\n",
       "        text-align: right;\n",
       "    }\n",
       "</style>\n",
       "<table border=\"1\" class=\"dataframe\">\n",
       "  <thead>\n",
       "    <tr style=\"text-align: right;\">\n",
       "      <th></th>\n",
       "      <th>Borough</th>\n",
       "      <th>1998-to-2018</th>\n",
       "    </tr>\n",
       "  </thead>\n",
       "  <tbody>\n",
       "    <tr>\n",
       "      <th>0</th>\n",
       "      <td>Barking &amp; Dagenham</td>\n",
       "      <td>0.204231</td>\n",
       "    </tr>\n",
       "    <tr>\n",
       "      <th>1</th>\n",
       "      <td>Barnet</td>\n",
       "      <td>0.229475</td>\n",
       "    </tr>\n",
       "    <tr>\n",
       "      <th>2</th>\n",
       "      <td>Bexley</td>\n",
       "      <td>0.235303</td>\n",
       "    </tr>\n",
       "    <tr>\n",
       "      <th>3</th>\n",
       "      <td>Brent</td>\n",
       "      <td>0.204271</td>\n",
       "    </tr>\n",
       "    <tr>\n",
       "      <th>4</th>\n",
       "      <td>Bromley</td>\n",
       "      <td>0.244210</td>\n",
       "    </tr>\n",
       "  </tbody>\n",
       "</table>\n",
       "</div>"
      ],
      "text/plain": [
       "              Borough  1998-to-2018\n",
       "0  Barking & Dagenham      0.204231\n",
       "1              Barnet      0.229475\n",
       "2              Bexley      0.235303\n",
       "3               Brent      0.204271\n",
       "4             Bromley      0.244210"
      ]
     },
     "execution_count": 39,
     "metadata": {},
     "output_type": "execute_result"
    }
   ],
   "source": [
    "df_ratios.rename(columns={'index':'Borough', 0: '1998-to-2018'}, inplace=True)\n",
    "df_ratios.head()"
   ]
  },
  {
   "cell_type": "code",
   "execution_count": 40,
   "metadata": {},
   "outputs": [
    {
     "data": {
      "text/html": [
       "<div>\n",
       "<style scoped>\n",
       "    .dataframe tbody tr th:only-of-type {\n",
       "        vertical-align: middle;\n",
       "    }\n",
       "\n",
       "    .dataframe tbody tr th {\n",
       "        vertical-align: top;\n",
       "    }\n",
       "\n",
       "    .dataframe thead th {\n",
       "        text-align: right;\n",
       "    }\n",
       "</style>\n",
       "<table border=\"1\" class=\"dataframe\">\n",
       "  <thead>\n",
       "    <tr style=\"text-align: right;\">\n",
       "      <th></th>\n",
       "      <th>Borough</th>\n",
       "      <th>1998-to-2018</th>\n",
       "    </tr>\n",
       "  </thead>\n",
       "  <tbody>\n",
       "    <tr>\n",
       "      <th>11</th>\n",
       "      <td>Hackney</td>\n",
       "      <td>0.161334</td>\n",
       "    </tr>\n",
       "    <tr>\n",
       "      <th>30</th>\n",
       "      <td>Waltham Forest</td>\n",
       "      <td>0.171376</td>\n",
       "    </tr>\n",
       "    <tr>\n",
       "      <th>27</th>\n",
       "      <td>Southwark</td>\n",
       "      <td>0.181279</td>\n",
       "    </tr>\n",
       "    <tr>\n",
       "      <th>22</th>\n",
       "      <td>Lewisham</td>\n",
       "      <td>0.183556</td>\n",
       "    </tr>\n",
       "    <tr>\n",
       "      <th>32</th>\n",
       "      <td>Westminster</td>\n",
       "      <td>0.186821</td>\n",
       "    </tr>\n",
       "    <tr>\n",
       "      <th>24</th>\n",
       "      <td>Newham</td>\n",
       "      <td>0.188407</td>\n",
       "    </tr>\n",
       "    <tr>\n",
       "      <th>6</th>\n",
       "      <td>City of London</td>\n",
       "      <td>0.188586</td>\n",
       "    </tr>\n",
       "    <tr>\n",
       "      <th>13</th>\n",
       "      <td>Haringey</td>\n",
       "      <td>0.194759</td>\n",
       "    </tr>\n",
       "    <tr>\n",
       "      <th>19</th>\n",
       "      <td>Kensington &amp; Chelsea</td>\n",
       "      <td>0.196766</td>\n",
       "    </tr>\n",
       "    <tr>\n",
       "      <th>21</th>\n",
       "      <td>Lambeth</td>\n",
       "      <td>0.201686</td>\n",
       "    </tr>\n",
       "    <tr>\n",
       "      <th>5</th>\n",
       "      <td>Camden</td>\n",
       "      <td>0.202674</td>\n",
       "    </tr>\n",
       "    <tr>\n",
       "      <th>0</th>\n",
       "      <td>Barking &amp; Dagenham</td>\n",
       "      <td>0.204231</td>\n",
       "    </tr>\n",
       "    <tr>\n",
       "      <th>3</th>\n",
       "      <td>Brent</td>\n",
       "      <td>0.204271</td>\n",
       "    </tr>\n",
       "    <tr>\n",
       "      <th>18</th>\n",
       "      <td>Islington</td>\n",
       "      <td>0.206532</td>\n",
       "    </tr>\n",
       "    <tr>\n",
       "      <th>10</th>\n",
       "      <td>Greenwich</td>\n",
       "      <td>0.209927</td>\n",
       "    </tr>\n",
       "  </tbody>\n",
       "</table>\n",
       "</div>"
      ],
      "text/plain": [
       "                 Borough  1998-to-2018\n",
       "11               Hackney      0.161334\n",
       "30        Waltham Forest      0.171376\n",
       "27             Southwark      0.181279\n",
       "22              Lewisham      0.183556\n",
       "32           Westminster      0.186821\n",
       "24                Newham      0.188407\n",
       "6         City of London      0.188586\n",
       "13              Haringey      0.194759\n",
       "19  Kensington & Chelsea      0.196766\n",
       "21               Lambeth      0.201686\n",
       "5                 Camden      0.202674\n",
       "0     Barking & Dagenham      0.204231\n",
       "3                  Brent      0.204271\n",
       "18             Islington      0.206532\n",
       "10             Greenwich      0.209927"
      ]
     },
     "execution_count": 40,
     "metadata": {},
     "output_type": "execute_result"
    }
   ],
   "source": [
    "df_top15 = df_ratios.sort_values('1998-to-2018',ascending=True)[:15]\n",
    "df_top15"
   ]
  },
  {
   "cell_type": "code",
   "execution_count": 41,
   "metadata": {},
   "outputs": [
    {
     "data": {
      "text/plain": [
       "<Axes: xlabel='Borough'>"
      ]
     },
     "execution_count": 41,
     "metadata": {},
     "output_type": "execute_result"
    },
    {
     "data": {
      "image/png": "[encoded data removed]",
      "text/plain": [
       "<Figure size 640x480 with 1 Axes>"
      ]
     },
     "metadata": {},
     "output_type": "display_data"
    }
   ],
   "source": [
    "df_top15.plot(kind='bar', x='Borough',y='1998-to-2018')"
   ]
  },
  {
   "cell_type": "code",
   "execution_count": 42,
   "metadata": {},
   "outputs": [
    {
     "data": {
      "text/plain": [
       "<Axes: xlabel='London_Borough'>"
      ]
     },
     "execution_count": 42,
     "metadata": {},
     "output_type": "execute_result"
    },
    {
     "data": {
      "image/png": "[encoded data removed]",
      "text/plain": [
       "<Figure size 640x480 with 1 Axes>"
      ]
     },
     "metadata": {},
     "output_type": "display_data"
    }
   ],
   "source": [
    "df_top15_2018 = df_year[df_year['Year']==2018].sort_values('Avg_price', ascending=False)[:15]\n",
    "df_top15_2018.plot(kind='bar', x='London_Borough',y='Avg_price')"
   ]
  },
  {
   "cell_type": "code",
   "execution_count": 43,
   "metadata": {},
   "outputs": [
    {
     "data": {
      "text/plain": [
       "<Axes: xlabel='London_Borough'>"
      ]
     },
     "execution_count": 43,
     "metadata": {},
     "output_type": "execute_result"
    },
    {
     "data": {
      "image/png": "[encoded data removed]",
      "text/plain": [
       "<Figure size 640x480 with 1 Axes>"
      ]
     },
     "metadata": {},
     "output_type": "display_data"
    }
   ],
   "source": [
    "df_top15_1998 = df_year[df_year['Year']==1998].sort_values('Avg_price', ascending=False)[:15]\n",
    "df_top15_1998.plot(kind='bar', x='London_Borough',y='Avg_price')"
   ]
  },
  {
   "cell_type": "markdown",
   "metadata": {
    "colab_type": "text",
    "id": "NzYUI7FxJpgv"
   },
   "source": [
    "### 4. Conclusion\n",
    "What can you conclude? Type out your conclusion below. \n",
    "\n",
    "Look back at your notebook. Think about how you might summarize what you have done, and prepare a quick presentation on it to your mentor at your next meeting. \n",
    "\n",
    "We hope you enjoyed this practical project. It should have consolidated your data hygiene and pandas skills by looking at a real-world problem involving just the kind of dataset you might encounter as a budding data scientist. Congratulations, and looking forward to seeing you at the next step in the course! "
   ]
  },
  {
   "cell_type": "markdown",
   "metadata": {},
   "source": [
    "**Conclusion: 'Hackney', 'Waltham Forest', and 'Southwalk' are the London boroughs that have seen the greatest increase in annual average housing prices, over the last two decades.** "
   ]
  }
 ],
 "metadata": {
  "colab": {
   "collapsed_sections": [],
   "name": "Springboard Data Science Career Track Unit 4 Challenge - Tier 3 Complete .ipynb",
   "provenance": []
  },
  "kernelspec": {
   "display_name": "Python 3 (ipykernel)",
   "language": "python",
   "name": "python3"
  },
  "language_info": {
   "codemirror_mode": {
    "name": "ipython",
    "version": 3
   },
   "file_extension": ".py",
   "mimetype": "text/x-python",
   "name": "python",
   "nbconvert_exporter": "python",
   "pygments_lexer": "ipython3",
   "version": "3.11.4"
  }
 },
 "nbformat": 4,
 "nbformat_minor": 4
}
